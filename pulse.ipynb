{
 "cells": [
  {
   "cell_type": "code",
   "execution_count": 1,
   "metadata": {},
   "outputs": [],
   "source": [
    "%run -i 'abalone.ipynb'"
   ]
  },
  {
   "cell_type": "code",
   "execution_count": 14,
   "metadata": {},
   "outputs": [],
   "source": [
    "def pulsar_exec(epoch_count=10, mb_size=10, report=1):\n",
    "    load_pulsar_dataset()\n",
    "    init_model()\n",
    "    train_and_test(epoch_count, mb_size, report)"
   ]
  },
  {
   "cell_type": "code",
   "execution_count": 24,
   "metadata": {},
   "outputs": [],
   "source": [
    "def load_pulsar_dataset():\n",
    "    '''with('data/chap02/pulsar_stars.csv') as csvfile:\n",
    "        csvreader = csv.reader(csvfile)\n",
    "        next(csvreader, None)\n",
    "        rows = []\n",
    "        for row in csvreader:\n",
    "            rows.append(row)\n",
    "    '''\n",
    "    ## csv로 안불러와져서 판다스로 불러옴        \n",
    "    import pandas as pd\n",
    "    df = pd.read_csv('data/chap02/pulsar_stars.csv')\n",
    "    rows = np.asarray(df)\n",
    "            \n",
    "    global data, input_cnt, output_cnt\n",
    "    input_cnt, output_cnt = 8, 1\n",
    "    data = np.asarray(rows, dtype='float32')"
   ]
  },
  {
   "cell_type": "code",
   "execution_count": 16,
   "metadata": {},
   "outputs": [],
   "source": [
    "def forward_postproc(output, y):\n",
    "    entropy = sigmoid_cross_entropy_with_logits(y, output)\n",
    "    loss = np.mean(entropy)\n",
    "    return loss, [y, output, entropy]\n",
    "\n",
    "\n",
    "def backprop_postproc(G_loss, aux):\n",
    "    y, output, entropy = aux\n",
    "    \n",
    "    g_loss_entropy = 1.0 / np.prod(entropy.shape)\n",
    "    g_entropy_output = sigmoid_cross_entropy_with_logits_derv(y, output)\n",
    "    \n",
    "    G_entropy = g_loss_entropy * G_loss\n",
    "    G_output = g_entropy_output * G_entropy\n",
    "    \n",
    "    return G_output"
   ]
  },
  {
   "cell_type": "code",
   "execution_count": 17,
   "metadata": {},
   "outputs": [],
   "source": [
    "def eval_accuracy(output, y):\n",
    "    estimate = np.greater(output, 0)\n",
    "    answer = np.greater(y, 0.5)\n",
    "    correct = np.equal(estimate, answer)\n",
    "    \n",
    "    return np.mean(correct)"
   ]
  },
  {
   "cell_type": "code",
   "execution_count": 18,
   "metadata": {},
   "outputs": [],
   "source": [
    "def relu(x):\n",
    "    return np.maximum(x, 0)\n",
    "\n",
    "def sigmoid(x):\n",
    "    return np.exp(-relu(-x)) / (1.0 + np.exp(-np.abs(x)))\n",
    "\n",
    "def sigmoid_derv(x, y):\n",
    "    return y * (1-y)\n",
    "\n",
    "def sigmoid_cross_entropy_with_logits(z, x):\n",
    "    return relu(x) - x * z + np.log(1 + np.exp(-np.abs(x)))\n",
    "\n",
    "def sigmoid_cross_entropy_with_logits_derv(z, x):\n",
    "    return -z + sigmoid(x)\n"
   ]
  },
  {
   "cell_type": "code",
   "execution_count": 27,
   "metadata": {},
   "outputs": [],
   "source": [
    "def pulsar_exec(epoch_count=10, mb_size=10, report=1, adjust_ratio=False):\n",
    "    load_pulsar_dataset(adjust_ratio)\n",
    "    init_model()\n",
    "    train_and_test(epoch_count, mb_size, report)"
   ]
  },
  {
   "cell_type": "code",
   "execution_count": 46,
   "metadata": {},
   "outputs": [],
   "source": [
    "def load_pulsar_dataset(adjust_ratio):\n",
    "    pulsars, stars = [], []\n",
    "    \n",
    "    import pandas as pd\n",
    "    df = pd.read_csv('data/chap02/pulsar_stars.csv')\n",
    "    pulsars = np.asarray(df[df['target_class'] == 1])\n",
    "    stars = np.asarray(df[df['target_class'] == 0])\n",
    "    \n",
    "    global data, input_cnt, output_cnt\n",
    "    input_cnt, output_cnt = 8, 1\n",
    "    \n",
    "    star_cnt, pulsar_cnt = len(stars), len(pulsars)\n",
    "    if adjust_ratio:\n",
    "        data = np.zeros([2*star_cnt, 9])\n",
    "        data[0:star_cnt, :] = np.asarray(stars, dtype='float32')\n",
    "        for n in range(star_cnt):\n",
    "            data[star_cnt+n] = np.asarray(pulsars[n % pulsar_cnt], dtype='float32')\n",
    "    else:\n",
    "        data = np.zeros([star_cnt+pulsar_cnt, 9])\n",
    "        data[0:star_cnt, : ] = np.asarray(stars, dtype='float32')\n",
    "        data[star_cnt:, :] = np.asarray(pulsars, dtype='float32')"
   ]
  },
  {
   "cell_type": "code",
   "execution_count": 38,
   "metadata": {},
   "outputs": [],
   "source": [
    "def eval_accuracy(output, y):\n",
    "    est_yes = np.greater(output, 0)\n",
    "    ans_yes = np.greater(y, 0.5)\n",
    "    est_no = np.logical_not(est_yes)\n",
    "    ans_no = np.logical_not(ans_yes)\n",
    "    \n",
    "    tp = np.sum(np.logical_and(est_yes, ans_yes))\n",
    "    fp = np.sum(np.logical_and(est_yes, ans_no))\n",
    "    fn = np.sum(np.logical_and(est_no, ans_yes))\n",
    "    tn = np.sum(np.logical_and(est_no, ans_no))\n",
    "    \n",
    "    accuracy = safe_div(tp+tn, tp+tn+fp+fn)\n",
    "    precision = safe_div(tp, tp+fp)\n",
    "    recall = safe_div(tp, tp+fn)\n",
    "    f1 = 2 * safe_div(recall*precision, recall+precision)\n",
    "    \n",
    "    return [accuracy, precision, recall, f1]\n",
    "\n",
    "\n",
    "def safe_div(p, q):\n",
    "    p, q = float(p), float(q)\n",
    "    if np.abs(q) < 1.0e-20: return np.sign(p)\n",
    "    return p / q"
   ]
  },
  {
   "cell_type": "code",
   "execution_count": 39,
   "metadata": {},
   "outputs": [],
   "source": [
    "def train_and_test(epoch_count, mb_size, report):\n",
    "    step_count = arrange_data(mb_size)\n",
    "    test_x, test_y = get_test_data()\n",
    "    \n",
    "    for epoch in range(epoch_count):\n",
    "        losses = []\n",
    "        \n",
    "        for n in range(step_count):\n",
    "            train_x, train_y = get_train_data(mb_size, n)\n",
    "            loss, _ = run_train(train_x, train_y)\n",
    "            losses.append(loss)\n",
    "            \n",
    "        if report > 0 and (epoch+1) % report == 0:\n",
    "            acc = run_test(test_x, test_y)\n",
    "            acc_str = ','.join(['%5.3f']*4) % tuple(acc)\n",
    "            print('Epoch {}: loss={:5.3f}, result={}'.format(epoch+1, np.mean(losses), acc_str))\n",
    "            \n",
    "    acc = run_test(test_x, test_y)\n",
    "    acc_str= ','.join(['%5.3f']*4) % tuple(acc)\n",
    "    print('\\nFinal test: final result = {}'.format(acc_str))"
   ]
  }
 ],
 "metadata": {
  "kernelspec": {
   "display_name": "Tensorflow-env",
   "language": "python",
   "name": "tensorflow"
  },
  "language_info": {
   "codemirror_mode": {
    "name": "ipython",
    "version": 3
   },
   "file_extension": ".py",
   "mimetype": "text/x-python",
   "name": "python",
   "nbconvert_exporter": "python",
   "pygments_lexer": "ipython3",
   "version": "3.7.4"
  }
 },
 "nbformat": 4,
 "nbformat_minor": 4
}
