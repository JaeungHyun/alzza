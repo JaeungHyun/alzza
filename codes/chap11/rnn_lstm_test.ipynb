{
 "cells": [
  {
   "cell_type": "code",
   "execution_count": 1,
   "metadata": {},
   "outputs": [],
   "source": [
    "%run ../chap11/rnn_lstm_model.ipynb\n",
    "%run ../chap11/dataset_sounds.ipynb"
   ]
  },
  {
   "cell_type": "code",
   "execution_count": 2,
   "metadata": {},
   "outputs": [
    {
     "name": "stdout",
     "output_type": "stream",
     "text": [
      "Model am_64 train started:\n",
      "    Epoch 2: cost=0.669, accuracy=0.587/0.630 (44/44 secs)\n",
      "    Epoch 4: cost=0.634, accuracy=0.622/0.670 (44/88 secs)\n",
      "    Epoch 6: cost=0.403, accuracy=0.824/0.820 (43/131 secs)\n",
      "    Epoch 8: cost=0.289, accuracy=0.892/0.910 (44/175 secs)\n",
      "    Epoch 10: cost=0.254, accuracy=0.910/0.930 (43/218 secs)\n",
      "Model am_64 train ended in 218 secs:\n",
      "Model am_64 test report: accuracy = 0.902, (1 secs)\n",
      "\n",
      "Model am_64 Visualization\n",
      "zk4/b-(uzh+3)/1*n/3)-(66): 잘못된 패턴 => 합격추정(0.92) : X\n",
      "1803-q1of*6/260+12-(7): 올바른 패턴 => 합격추정(0.91) : O\n",
      "9/e1i*1*0/0x9-n*fie*xxk: 잘못된 패턴 => 탈락추정(0.00) : O\n"
     ]
    }
   ],
   "source": [
    "%run ../chap10/dataset_automata.ipynb\n",
    "\n",
    "ad = AutomataDataset()\n",
    "\n",
    "am_64 = RnnLstmModel('am_64', ad, ['lstm', {'recur_size':64, 'outseq':False}])\n",
    "am_64.exec_all(epoch_count=10, report=2)"
   ]
  },
  {
   "cell_type": "code",
   "execution_count": 3,
   "metadata": {},
   "outputs": [
    {
     "name": "stdout",
     "output_type": "stream",
     "text": [
      "loaded from cache\n",
      "loaded from cache\n"
     ]
    }
   ],
   "source": [
    "usd_10_10 = UrbanSoundDataset(10, 10)\n",
    "usd_10_100 = UrbanSoundDataset(10, 100)"
   ]
  },
  {
   "cell_type": "code",
   "execution_count": 4,
   "metadata": {},
   "outputs": [],
   "source": [
    "conf_basic = ['rnn', {'recur_size':20, 'outseq':False}]\n",
    "conf_lstm  = ['lstm', {'recur_size':20, 'outseq':False}]\n",
    "conf_state = ['lstm', {'recur_size':20, 'outseq':False, 'use_state':True}]\n",
    "\n",
    "us_basic_10_10 = RnnLstmModel('us_basic_10_10', usd_10_10, conf_basic)\n",
    "us_lstm_10_10  = RnnLstmModel('us_lstm_10_10',  usd_10_10, conf_lstm)\n",
    "us_state_10_10 = RnnLstmModel('us_state_10_10', usd_10_10, conf_state)\n",
    "\n",
    "us_basic_10_100 = RnnLstmModel('us_basic_10_100', usd_10_100, conf_basic)\n",
    "us_lstm_10_100  = RnnLstmModel('us_lstm_10_100',  usd_10_100, conf_lstm)\n",
    "us_state_10_100 = RnnLstmModel('us_state_10_100', usd_10_100, conf_state)"
   ]
  },
  {
   "cell_type": "code",
   "execution_count": 5,
   "metadata": {},
   "outputs": [
    {
     "name": "stdout",
     "output_type": "stream",
     "text": [
      "Model us_basic_10_10 train started:\n",
      "    Epoch 2: cost=2.120, accuracy=0.240/0.180 (10/10 secs)\n",
      "    Epoch 4: cost=2.012, accuracy=0.290/0.230 (9/19 secs)\n",
      "    Epoch 6: cost=1.937, accuracy=0.325/0.290 (10/29 secs)\n",
      "    Epoch 8: cost=1.889, accuracy=0.328/0.210 (9/38 secs)\n",
      "    Epoch 10: cost=1.846, accuracy=0.345/0.230 (8/46 secs)\n",
      "Model us_basic_10_10 train ended in 46 secs:\n",
      "Model us_basic_10_10 test report: accuracy = 0.348, (0 secs)\n",
      "\n",
      "Model us_basic_10_10 Visualization\n"
     ]
    },
    {
     "data": {
      "text/html": [
       "\n",
       "    <head>\n",
       "    <meta http-equiv=\"Content-Type\" content=\"text/html; charset=utf-8\">\n",
       "    <title>Audio Player</title>\n",
       "    </head>\n",
       "    \n",
       "    <body>\n",
       "    <audio controls=\"controls\" style=\"width:600px\" >\n",
       "      <source src=\"files/urban-sound/Train/740.wav\" type=\"audio/wav\" />\n",
       "      Your browser does not support the audio element.\n",
       "    </audio>\n",
       "    </body>\n",
       "    "
      ],
      "text/plain": [
       "<IPython.core.display.HTML object>"
      ]
     },
     "metadata": {},
     "output_type": "display_data"
    },
    {
     "name": "stdout",
     "output_type": "stream",
     "text": [
      "siren: wrong(jackhammer)\n"
     ]
    },
    {
     "data": {
      "text/html": [
       "\n",
       "    <head>\n",
       "    <meta http-equiv=\"Content-Type\" content=\"text/html; charset=utf-8\">\n",
       "    <title>Audio Player</title>\n",
       "    </head>\n",
       "    \n",
       "    <body>\n",
       "    <audio controls=\"controls\" style=\"width:600px\" >\n",
       "      <source src=\"files/urban-sound/Train/6080.wav\" type=\"audio/wav\" />\n",
       "      Your browser does not support the audio element.\n",
       "    </audio>\n",
       "    </body>\n",
       "    "
      ],
      "text/plain": [
       "<IPython.core.display.HTML object>"
      ]
     },
     "metadata": {},
     "output_type": "display_data"
    },
    {
     "name": "stdout",
     "output_type": "stream",
     "text": [
      "engine_idling: wrong(air_conditioner)\n"
     ]
    },
    {
     "data": {
      "text/html": [
       "\n",
       "    <head>\n",
       "    <meta http-equiv=\"Content-Type\" content=\"text/html; charset=utf-8\">\n",
       "    <title>Audio Player</title>\n",
       "    </head>\n",
       "    \n",
       "    <body>\n",
       "    <audio controls=\"controls\" style=\"width:600px\" >\n",
       "      <source src=\"files/urban-sound/Train/3533.wav\" type=\"audio/wav\" />\n",
       "      Your browser does not support the audio element.\n",
       "    </audio>\n",
       "    </body>\n",
       "    "
      ],
      "text/plain": [
       "<IPython.core.display.HTML object>"
      ]
     },
     "metadata": {},
     "output_type": "display_data"
    },
    {
     "name": "stdout",
     "output_type": "stream",
     "text": [
      "children_playing: wrong(street_music)\n"
     ]
    }
   ],
   "source": [
    "us_basic_10_10.exec_all(epoch_count=10, report=2)"
   ]
  },
  {
   "cell_type": "code",
   "execution_count": 6,
   "metadata": {},
   "outputs": [
    {
     "name": "stdout",
     "output_type": "stream",
     "text": [
      "Model us_lstm_10_10 train started:\n",
      "    Epoch 2: cost=2.130, accuracy=0.249/0.230 (30/30 secs)\n",
      "    Epoch 4: cost=2.099, accuracy=0.250/0.240 (30/60 secs)\n",
      "    Epoch 6: cost=2.018, accuracy=0.287/0.290 (31/91 secs)\n",
      "    Epoch 8: cost=1.974, accuracy=0.288/0.220 (30/121 secs)\n",
      "    Epoch 10: cost=1.983, accuracy=0.293/0.250 (30/151 secs)\n",
      "Model us_lstm_10_10 train ended in 151 secs:\n",
      "Model us_lstm_10_10 test report: accuracy = 0.325, (1 secs)\n",
      "\n"
     ]
    }
   ],
   "source": [
    "us_lstm_10_10.exec_all(epoch_count=10, report=2, show_cnt=0)"
   ]
  },
  {
   "cell_type": "code",
   "execution_count": 7,
   "metadata": {},
   "outputs": [
    {
     "name": "stdout",
     "output_type": "stream",
     "text": [
      "Model us_state_10_10 train started:\n",
      "    Epoch 2: cost=2.060, accuracy=0.252/0.200 (30/30 secs)\n",
      "    Epoch 4: cost=1.962, accuracy=0.284/0.270 (30/60 secs)\n",
      "    Epoch 6: cost=1.903, accuracy=0.305/0.300 (30/90 secs)\n",
      "    Epoch 8: cost=1.834, accuracy=0.345/0.300 (30/120 secs)\n",
      "    Epoch 10: cost=1.764, accuracy=0.367/0.380 (31/151 secs)\n",
      "Model us_state_10_10 train ended in 151 secs:\n",
      "Model us_state_10_10 test report: accuracy = 0.353, (0 secs)\n",
      "\n"
     ]
    }
   ],
   "source": [
    "us_state_10_10.exec_all(epoch_count=10, report=2, show_cnt=0)"
   ]
  },
  {
   "cell_type": "code",
   "execution_count": 8,
   "metadata": {},
   "outputs": [
    {
     "name": "stdout",
     "output_type": "stream",
     "text": [
      "Model us_basic_10_10 train started:\n",
      "    Epoch 20: cost=1.627, accuracy=0.414/0.260 (78/78 secs)\n",
      "    Epoch 40: cost=1.491, accuracy=0.448/0.340 (80/158 secs)\n",
      "    Epoch 60: cost=1.429, accuracy=0.465/0.340 (85/243 secs)\n",
      "    Epoch 80: cost=1.414, accuracy=0.481/0.270 (84/327 secs)\n",
      "    Epoch 100: cost=1.319, accuracy=0.497/0.330 (83/410 secs)\n",
      "Model us_basic_10_10 train ended in 410 secs:\n",
      "Model us_basic_10_10 test report: accuracy = 0.374, (0 secs)\n",
      "\n",
      "Model us_lstm_10_10 train started:\n",
      "    Epoch 20: cost=1.749, accuracy=0.378/0.290 (311/311 secs)\n",
      "    Epoch 40: cost=1.561, accuracy=0.448/0.340 (313/624 secs)\n",
      "    Epoch 60: cost=1.425, accuracy=0.492/0.430 (318/942 secs)\n",
      "    Epoch 80: cost=1.383, accuracy=0.539/0.380 (321/1263 secs)\n",
      "    Epoch 100: cost=1.275, accuracy=0.582/0.390 (306/1569 secs)\n",
      "Model us_lstm_10_10 train ended in 1569 secs:\n",
      "Model us_lstm_10_10 test report: accuracy = 0.486, (1 secs)\n",
      "\n",
      "Model us_state_10_10 train started:\n",
      "    Epoch 20: cost=1.538, accuracy=0.450/0.460 (300/300 secs)\n",
      "    Epoch 40: cost=1.247, accuracy=0.547/0.520 (303/603 secs)\n",
      "    Epoch 60: cost=1.119, accuracy=0.600/0.490 (308/911 secs)\n",
      "    Epoch 80: cost=0.991, accuracy=0.646/0.430 (310/1221 secs)\n",
      "    Epoch 100: cost=0.889, accuracy=0.678/0.530 (311/1532 secs)\n",
      "Model us_state_10_10 train ended in 1532 secs:\n",
      "Model us_state_10_10 test report: accuracy = 0.577, (1 secs)\n",
      "\n"
     ]
    }
   ],
   "source": [
    "us_basic_10_10.exec_all(epoch_count=100, report=20, show_cnt=0)\n",
    "us_lstm_10_10.exec_all(epoch_count=100, report=20, show_cnt=0)\n",
    "us_state_10_10.exec_all(epoch_count=100, report=20, show_cnt=0)"
   ]
  },
  {
   "cell_type": "code",
   "execution_count": 9,
   "metadata": {},
   "outputs": [
    {
     "name": "stdout",
     "output_type": "stream",
     "text": [
      "Model us_basic_10_100 train started:\n",
      "    Epoch 20: cost=1.138, accuracy=0.602/0.580 (91/91 secs)\n",
      "    Epoch 40: cost=1.015, accuracy=0.649/0.550 (75/166 secs)\n",
      "    Epoch 60: cost=0.978, accuracy=0.667/0.590 (74/240 secs)\n",
      "    Epoch 80: cost=0.784, accuracy=0.711/0.690 (73/313 secs)\n",
      "    Epoch 100: cost=0.845, accuracy=0.700/0.650 (74/387 secs)\n",
      "Model us_basic_10_100 train ended in 387 secs:\n",
      "Model us_basic_10_100 test report: accuracy = 0.590, (0 secs)\n",
      "\n",
      "Model us_lstm_10_100 train started:\n",
      "    Epoch 20: cost=1.229, accuracy=0.593/0.520 (290/290 secs)\n",
      "    Epoch 40: cost=0.910, accuracy=0.690/0.650 (291/581 secs)\n",
      "    Epoch 60: cost=0.746, accuracy=0.756/0.680 (293/874 secs)\n",
      "    Epoch 80: cost=0.704, accuracy=0.772/0.660 (294/1168 secs)\n",
      "    Epoch 100: cost=0.618, accuracy=0.806/0.680 (295/1463 secs)\n",
      "Model us_lstm_10_100 train ended in 1463 secs:\n",
      "Model us_lstm_10_100 test report: accuracy = 0.722, (1 secs)\n",
      "\n",
      "Model us_state_10_100 train started:\n",
      "    Epoch 20: cost=0.979, accuracy=0.682/0.640 (288/288 secs)\n",
      "    Epoch 40: cost=0.746, accuracy=0.747/0.690 (290/578 secs)\n",
      "    Epoch 60: cost=0.609, accuracy=0.794/0.710 (292/870 secs)\n",
      "    Epoch 80: cost=0.482, accuracy=0.837/0.740 (294/1164 secs)\n",
      "    Epoch 100: cost=0.461, accuracy=0.848/0.730 (295/1459 secs)\n",
      "Model us_state_10_100 train ended in 1459 secs:\n",
      "Model us_state_10_100 test report: accuracy = 0.758, (1 secs)\n",
      "\n"
     ]
    }
   ],
   "source": [
    "us_basic_10_100.exec_all(epoch_count=100, report=20, show_cnt=0)\n",
    "us_lstm_10_100.exec_all(epoch_count=100, report=20, show_cnt=0)\n",
    "us_state_10_100.exec_all(epoch_count=100, report=20, show_cnt=0)"
   ]
  }
 ],
 "metadata": {
  "kernelspec": {
   "display_name": "Python 3",
   "language": "python",
   "name": "python3"
  },
  "language_info": {
   "codemirror_mode": {
    "name": "ipython",
    "version": 3
   },
   "file_extension": ".py",
   "mimetype": "text/x-python",
   "name": "python",
   "nbconvert_exporter": "python",
   "pygments_lexer": "ipython3",
   "version": "3.4.3"
  }
 },
 "nbformat": 4,
 "nbformat_minor": 2
}
