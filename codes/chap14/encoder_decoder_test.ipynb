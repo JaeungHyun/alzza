{
 "cells": [
  {
   "cell_type": "code",
   "execution_count": 1,
   "metadata": {},
   "outputs": [],
   "source": [
    "%run ../chap14/encoder_decoder.ipynb\n",
    "%run ../chap14/dataset_endec_mnist.ipynb"
   ]
  },
  {
   "cell_type": "code",
   "execution_count": 2,
   "metadata": {},
   "outputs": [],
   "source": [
    "mnist_eng = MnistEngDataset()"
   ]
  },
  {
   "cell_type": "code",
   "execution_count": 3,
   "metadata": {},
   "outputs": [
    {
     "name": "stdout",
     "output_type": "stream",
     "text": [
      "Model encdec_eng1 train started:\n",
      "    Epoch 2: cost=0.614, accuracy=0.799+0.557/0.837+0.670 (22/22 secs)\n",
      "    Epoch 4: cost=0.506, accuracy=0.833+0.644/0.857+0.710 (27/49 secs)\n",
      "    Epoch 6: cost=0.482, accuracy=0.849+0.698/0.803+0.660 (26/75 secs)\n",
      "    Epoch 8: cost=0.465, accuracy=0.856+0.721/0.860+0.750 (27/102 secs)\n",
      "    Epoch 10: cost=0.459, accuracy=0.858+0.727/0.857+0.740 (27/129 secs)\n",
      "Model encdec_eng1 train ended in 129 secs:\n",
      "Model mnist_eng test report: accuracy = 0.864+0.743, (1 secs)\n",
      "\n",
      "Model encdec_eng1 Visualization\n"
     ]
    },
    {
     "data": {
      "image/png": "[encoded data removed]",
      "text/plain": [
       "<matplotlib.figure.Figure at 0x7f493c09ff28>"
      ]
     },
     "metadata": {},
     "output_type": "display_data"
    },
    {
     "name": "stdout",
     "output_type": "stream",
     "text": [
      "four## : four##(code: 7)\n",
      "zero## : zero##(code: 0)\n",
      "five## : five##(code: 0)\n"
     ]
    }
   ],
   "source": [
    "conf_eng1 = {\n",
    "    'encoder': [['full', {'width':10}]],\n",
    "    'decoder': [['lstm', {'recur_size':32, 'inseq':False,\n",
    "                          'outseq':True, 'timesteps':6}],\n",
    "                ['seqwrap', ['full', {'width':27, 'actfunc':'none'}]]]\n",
    "}\n",
    "\n",
    "encdec_eng1 = EncoderDecoder('encdec_eng1', mnist_eng, conf_eng1)\n",
    "encdec_eng1.exec_1_step(epoch_count=10, report=2)"
   ]
  },
  {
   "cell_type": "code",
   "execution_count": 4,
   "metadata": {},
   "outputs": [
    {
     "name": "stdout",
     "output_type": "stream",
     "text": [
      "Model encdec_eng2 train started:\n",
      "    Epoch 2: cost=0.337, accuracy=0.896+0.794/0.912+0.840 (28/28 secs)\n",
      "    Epoch 4: cost=0.262, accuracy=0.917+0.842/0.933+0.870 (34/62 secs)\n",
      "    Epoch 6: cost=0.228, accuracy=0.928+0.861/0.940+0.870 (35/97 secs)\n",
      "    Epoch 8: cost=0.212, accuracy=0.932+0.870/0.942+0.900 (34/131 secs)\n",
      "    Epoch 10: cost=0.206, accuracy=0.935+0.875/0.930+0.880 (35/166 secs)\n",
      "Model encdec_eng2 train ended in 166 secs:\n",
      "Model mnist_eng test report: accuracy = 0.947+0.894, (1 secs)\n",
      "\n",
      "Model encdec_eng2 Visualization\n"
     ]
    },
    {
     "data": {
      "image/png": "[encoded data removed]",
      "text/plain": [
       "<matplotlib.figure.Figure at 0x7f494b7da6a0>"
      ]
     },
     "metadata": {},
     "output_type": "display_data"
    },
    {
     "name": "stdout",
     "output_type": "stream",
     "text": [
      "five## : five##(code: 5)\n",
      "seven# : seven#(code: 1)\n",
      "one### : one###(code: 0)\n"
     ]
    }
   ],
   "source": [
    "conf_eng2 = {\n",
    "    'encoder': [['full', {'width':32}],\n",
    "                ['batch_normal'],\n",
    "                ['full', {'width':10}]],\n",
    "    'decoder': [['lstm', {'recur_size':32, 'inseq':False,\n",
    "                          'outseq':True, 'timesteps':6}],\n",
    "                ['seqwrap', ['full', {'width':27, 'actfunc':'none'}]]]\n",
    "}\n",
    "\n",
    "encdec_eng2 = EncoderDecoder('encdec_eng2', mnist_eng, conf_eng2)\n",
    "encdec_eng2.exec_1_step(epoch_count=10, report=2)"
   ]
  },
  {
   "cell_type": "code",
   "execution_count": 5,
   "metadata": {},
   "outputs": [
    {
     "name": "stdout",
     "output_type": "stream",
     "text": [
      "Model encdec_eng2_2 train started:\n",
      "    Epoch 5: cost=0.326, accuracy=0.903/0.940 (25/25 secs)\n",
      "    Epoch 10: cost=0.295, accuracy=0.913/0.890 (29/54 secs)\n",
      "Model encdec_eng2_2 train ended in 54 secs:\n",
      "Model encdec_eng2_2 train started:\n",
      "    Epoch 5: cost=0.000, accuracy=1.000+1.000/1.000+1.000 (46/46 secs)\n",
      "    Epoch 10: cost=0.000, accuracy=1.000+1.000/1.000+1.000 (46/92 secs)\n",
      "Model encdec_eng2_2 train ended in 92 secs:\n",
      "Model mnist_eng test report: accuracy = 0.198+0.000, (1 secs)\n",
      "\n",
      "Model encdec_eng2_2 Visualization\n"
     ]
    },
    {
     "data": {
      "image/png": "[encoded data removed]",
      "text/plain": [
       "<matplotlib.figure.Figure at 0x7f493d52d2e8>"
      ]
     },
     "metadata": {},
     "output_type": "display_data"
    },
    {
     "name": "stdout",
     "output_type": "stream",
     "text": [
      "zero## : zzzzzz(code: 0)\n",
      "three# : tttttt(code: 3)\n",
      "six### : ssssss(code: 6)\n"
     ]
    }
   ],
   "source": [
    "encdec_eng2_2 = EncoderDecoder('encdec_eng2_2', mnist_eng, conf_eng2)\n",
    "encdec_eng2_2.exec_2_steps(epoch_count=10, report=5)"
   ]
  },
  {
   "cell_type": "code",
   "execution_count": 6,
   "metadata": {},
   "outputs": [
    {
     "name": "stdout",
     "output_type": "stream",
     "text": [
      "Model encdec_eng2_3 train started:\n",
      "    Epoch 5: cost=0.331, accuracy=0.901/0.960 (25/25 secs)\n",
      "    Epoch 10: cost=0.303, accuracy=0.911/0.950 (29/54 secs)\n",
      "Model encdec_eng2_3 train ended in 54 secs:\n",
      "Model encdec_eng2_3 train started:\n",
      "    Epoch 5: cost=0.000, accuracy=1.000+1.000/1.000+1.000 (46/46 secs)\n",
      "    Epoch 10: cost=0.000, accuracy=1.000+1.000/1.000+1.000 (45/91 secs)\n",
      "Model encdec_eng2_3 train ended in 91 secs:\n",
      "Model encdec_eng2_3 train started:\n",
      "    Epoch 5: cost=0.221, accuracy=0.936+0.874/0.963+0.930 (76/76 secs)\n",
      "    Epoch 10: cost=0.191, accuracy=0.942+0.892/0.942+0.900 (80/156 secs)\n",
      "Model encdec_eng2_3 train ended in 156 secs:\n",
      "Model mnist_eng test report: accuracy = 0.945+0.897, (1 secs)\n",
      "\n",
      "Model encdec_eng2_3 Visualization\n"
     ]
    },
    {
     "data": {
      "image/png": "[encoded data removed]",
      "text/plain": [
       "<matplotlib.figure.Figure at 0x7f48cc0ddba8>"
      ]
     },
     "metadata": {},
     "output_type": "display_data"
    },
    {
     "name": "stdout",
     "output_type": "stream",
     "text": [
      "six### : six###(code: 6)\n",
      "seven# : seven#(code: 7)\n",
      "nine## : nine##(code: 9)\n"
     ]
    }
   ],
   "source": [
    "encdec_eng2_3 = EncoderDecoder('encdec_eng2_3', mnist_eng, conf_eng2)\n",
    "encdec_eng2_3.exec_3_steps(epoch_count=10, report=5)"
   ]
  },
  {
   "cell_type": "code",
   "execution_count": 7,
   "metadata": {},
   "outputs": [
    {
     "name": "stdout",
     "output_type": "stream",
     "text": [
      "Model encdec_kor2 train started:\n",
      "    Epoch 2: cost=0.564, accuracy=0.795+0.361/0.850+0.520 (45/45 secs)\n",
      "    Epoch 4: cost=0.384, accuracy=0.890+0.628/0.912+0.700 (59/104 secs)\n",
      "    Epoch 6: cost=0.326, accuracy=0.912+0.698/0.915+0.710 (62/166 secs)\n",
      "    Epoch 8: cost=0.311, accuracy=0.914+0.705/0.915+0.730 (64/230 secs)\n",
      "    Epoch 10: cost=0.286, accuracy=0.922+0.732/0.907+0.700 (65/295 secs)\n",
      "Model encdec_kor2 train ended in 295 secs:\n",
      "Model mnist_kor test report: accuracy = 0.923+0.738, (1 secs)\n",
      "\n",
      "Model encdec_kor2 Visualization\n"
     ]
    },
    {
     "data": {
      "image/png": "[encoded data removed]",
      "text/plain": [
       "<matplotlib.figure.Figure at 0x7f48cc0f9b00>"
      ]
     },
     "metadata": {},
     "output_type": "display_data"
    },
    {
     "name": "stdout",
     "output_type": "stream",
     "text": [
      "육십오# : 육십오#\n"
     ]
    },
    {
     "data": {
      "image/png": "[encoded data removed]",
      "text/plain": [
       "<matplotlib.figure.Figure at 0x7f48cc0dd550>"
      ]
     },
     "metadata": {},
     "output_type": "display_data"
    },
    {
     "name": "stdout",
     "output_type": "stream",
     "text": [
      "팔십삼# : 구십삼#\n"
     ]
    },
    {
     "data": {
      "image/png": "[encoded data removed]",
      "text/plain": [
       "<matplotlib.figure.Figure at 0x7f48cbfcdd30>"
      ]
     },
     "metadata": {},
     "output_type": "display_data"
    },
    {
     "name": "stdout",
     "output_type": "stream",
     "text": [
      "삼십사# : 삼십사#\n"
     ]
    }
   ],
   "source": [
    "mnist_kor2 = MnistKorDataset(2)\n",
    "\n",
    "conf_kor2 = {\n",
    "    'encoder': [['seqwrap', ['full', {'width':32}]],\n",
    "                            ['batch_normal'],\n",
    "                            ['full', {'width':10}]],\n",
    "    'decoder': [['lstm', {'recur_size':32, 'inseq':False,\n",
    "                          'outseq':True, 'timesteps':4}],\n",
    "                ['seqwrap', ['full', {'width':14, 'actfunc':'none'}]]]\n",
    "}\n",
    "\n",
    "encdec_kor2 = EncoderDecoder('encdec_kor2', mnist_kor2, conf_kor2)\n",
    "encdec_kor2.exec_1_step(epoch_count=10, report=2)"
   ]
  },
  {
   "cell_type": "code",
   "execution_count": 8,
   "metadata": {
    "scrolled": true
   },
   "outputs": [
    {
     "name": "stdout",
     "output_type": "stream",
     "text": [
      "Model encdec_kor3 train started:\n",
      "    Epoch 2: cost=0.771, accuracy=0.751+0.116/0.827+0.310 (57/57 secs)\n",
      "    Epoch 4: cost=0.568, accuracy=0.831+0.309/0.837+0.350 (75/132 secs)\n",
      "    Epoch 6: cost=0.531, accuracy=0.835+0.322/0.857+0.370 (75/207 secs)\n",
      "    Epoch 8: cost=0.514, accuracy=0.842+0.343/0.855+0.420 (75/282 secs)\n",
      "    Epoch 10: cost=0.504, accuracy=0.846+0.359/0.822+0.330 (75/357 secs)\n",
      "Model encdec_kor3 train ended in 357 secs:\n",
      "Model mnist_kor test report: accuracy = 0.840+0.345, (1 secs)\n",
      "\n",
      "Model encdec_kor3 Visualization\n"
     ]
    },
    {
     "data": {
      "image/png": "[encoded data removed]",
      "text/plain": [
       "<matplotlib.figure.Figure at 0x7f48cbeea6d8>"
      ]
     },
     "metadata": {},
     "output_type": "display_data"
    },
    {
     "name": "stdout",
     "output_type": "stream",
     "text": [
      "칠백오십사# : 칠백오십사#\n"
     ]
    },
    {
     "data": {
      "image/png": "[encoded data removed]",
      "text/plain": [
       "<matplotlib.figure.Figure at 0x7f48ce3f8f28>"
      ]
     },
     "metadata": {},
     "output_type": "display_data"
    },
    {
     "name": "stdout",
     "output_type": "stream",
     "text": [
      "팔백팔십## : 팔백####\n"
     ]
    },
    {
     "data": {
      "image/png": "[encoded data removed]",
      "text/plain": [
       "<matplotlib.figure.Figure at 0x7f48cbf40860>"
      ]
     },
     "metadata": {},
     "output_type": "display_data"
    },
    {
     "name": "stdout",
     "output_type": "stream",
     "text": [
      "팔백팔십육# : 팔백이십사#\n"
     ]
    }
   ],
   "source": [
    "mnist_kor3 = MnistKorDataset(3)\n",
    "\n",
    "conf_kor3 = {\n",
    "    'encoder': [['seqwrap', ['full', {'width':32}]],\n",
    "                            ['batch_normal'],\n",
    "                            ['full', {'width':10}]],\n",
    "    'decoder': [['lstm', {'recur_size':32, 'inseq':False,\n",
    "                          'outseq':True, 'timesteps':6}],\n",
    "                ['seqwrap', ['full', {'width':14, 'actfunc':'none'}]]]\n",
    "}\n",
    "\n",
    "encdec_kor3 = EncoderDecoder('encdec_kor3', mnist_kor3, conf_kor3)\n",
    "encdec_kor3.exec_1_step(epoch_count=10, report=2)"
   ]
  },
  {
   "cell_type": "code",
   "execution_count": 9,
   "metadata": {},
   "outputs": [
    {
     "name": "stdout",
     "output_type": "stream",
     "text": [
      "Model encdec_kor4 train started:\n",
      "    Epoch 10: cost=0.548, accuracy=0.832+0.198/0.830+0.220 (515/515 secs)\n",
      "    Epoch 20: cost=0.538, accuracy=0.845+0.242/0.841+0.230 (535/1050 secs)\n",
      "    Epoch 30: cost=0.540, accuracy=0.847+0.255/0.809+0.170 (527/1577 secs)\n",
      "    Epoch 40: cost=0.529, accuracy=0.851+0.267/0.815+0.120 (530/2107 secs)\n",
      "    Epoch 50: cost=0.536, accuracy=0.852+0.269/0.876+0.310 (527/2634 secs)\n",
      "Model encdec_kor4 train ended in 2634 secs:\n",
      "Model mnist_kor test report: accuracy = 0.849+0.255, (2 secs)\n",
      "\n",
      "Model encdec_kor4 Visualization\n"
     ]
    },
    {
     "data": {
      "image/png": "[encoded data removed]",
      "text/plain": [
       "<matplotlib.figure.Figure at 0x7f48cbe4d630>"
      ]
     },
     "metadata": {},
     "output_type": "display_data"
    },
    {
     "name": "stdout",
     "output_type": "stream",
     "text": [
      "오천팔백팔십칠# : 오천이백십칠##\n"
     ]
    },
    {
     "data": {
      "image/png": "[encoded data removed]",
      "text/plain": [
       "<matplotlib.figure.Figure at 0x7f48cbf79da0>"
      ]
     },
     "metadata": {},
     "output_type": "display_data"
    },
    {
     "name": "stdout",
     "output_type": "stream",
     "text": [
      "팔백육십육### : 팔백육십이###\n"
     ]
    },
    {
     "data": {
      "image/png": "[encoded data removed]",
      "text/plain": [
       "<matplotlib.figure.Figure at 0x7f48cc00d208>"
      ]
     },
     "metadata": {},
     "output_type": "display_data"
    },
    {
     "name": "stdout",
     "output_type": "stream",
     "text": [
      "팔천사백구### : 오천사백삼###\n"
     ]
    }
   ],
   "source": [
    "mnist_kor4 = MnistKorDataset(4)\n",
    "\n",
    "conf_kor4 = {\n",
    "    'encoder': [['seqwrap', ['full', {'width':32}]],\n",
    "                            ['batch_normal'],\n",
    "                            ['full', {'width':10}]],\n",
    "    'decoder': [['lstm', {'recur_size':64, 'inseq':False,\n",
    "                          'outseq':True, 'timesteps':8}],\n",
    "                ['seqwrap', ['full', {'width':14, 'actfunc':'none'}]]]\n",
    "}\n",
    "\n",
    "encdec_kor4 = EncoderDecoder('encdec_kor4', mnist_kor4, conf_kor4)\n",
    "encdec_kor4.exec_1_step(epoch_count=50, report=10)"
   ]
  }
 ],
 "metadata": {
  "kernelspec": {
   "display_name": "Python 3",
   "language": "python",
   "name": "python3"
  },
  "language_info": {
   "codemirror_mode": {
    "name": "ipython",
    "version": 3
   },
   "file_extension": ".py",
   "mimetype": "text/x-python",
   "name": "python",
   "nbconvert_exporter": "python",
   "pygments_lexer": "ipython3",
   "version": "3.4.3"
  }
 },
 "nbformat": 4,
 "nbformat_minor": 2
}
