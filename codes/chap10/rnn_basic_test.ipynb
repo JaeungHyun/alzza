{
 "cells": [
  {
   "cell_type": "code",
   "execution_count": 1,
   "metadata": {},
   "outputs": [],
   "source": [
    "%run ../chap10/rnn_basic_model.ipynb\n",
    "%run ../chap10/dataset_automata.ipynb"
   ]
  },
  {
   "cell_type": "code",
   "execution_count": 2,
   "metadata": {},
   "outputs": [],
   "source": [
    "ad = AutomataDataset()\n",
    "\n",
    "am_4  = RnnBasicModel('am_4',  ad, ['rnn', {'recur_size':4,  'outseq':False}])\n",
    "am_16 = RnnBasicModel('am_16', ad, ['rnn', {'recur_size':16, 'outseq':False}])\n",
    "am_64 = RnnBasicModel('am_64', ad, ['rnn', {'recur_size':64, 'outseq':False}])"
   ]
  },
  {
   "cell_type": "code",
   "execution_count": 3,
   "metadata": {},
   "outputs": [
    {
     "name": "stdout",
     "output_type": "stream",
     "text": [
      "Model am_4 train started:\n",
      "    Epoch 2: cost=0.692, accuracy=0.523/0.540 (21/21 secs)\n",
      "    Epoch 4: cost=0.691, accuracy=0.520/0.600 (20/41 secs)\n",
      "    Epoch 6: cost=0.688, accuracy=0.525/0.550 (21/62 secs)\n",
      "    Epoch 8: cost=0.687, accuracy=0.530/0.510 (20/82 secs)\n",
      "    Epoch 10: cost=0.685, accuracy=0.540/0.530 (19/101 secs)\n",
      "Model am_4 train ended in 101 secs:\n",
      "Model am_4 test report: accuracy = 0.552, (0 secs)\n",
      "\n",
      "Model am_4 Visualization\n",
      "v*8-sb-u*5+(gz: 잘못된 패턴 => 탈락추정(0.39) : O\n",
      "573/66/n*7*28424/j/(l1z)*f: 올바른 패턴 => 합격추정(0.54) : O\n",
      "a/36-f/1*ra(3)+0: 잘못된 패턴 => 합격추정(0.55) : X\n"
     ]
    }
   ],
   "source": [
    "am_4.exec_all(epoch_count=10, report=2)"
   ]
  },
  {
   "cell_type": "code",
   "execution_count": 4,
   "metadata": {},
   "outputs": [
    {
     "name": "stdout",
     "output_type": "stream",
     "text": [
      "Model am_16 train started:\n",
      "    Epoch 2: cost=0.677, accuracy=0.575/0.670 (21/21 secs)\n",
      "    Epoch 4: cost=0.645, accuracy=0.624/0.640 (20/41 secs)\n",
      "    Epoch 6: cost=0.616, accuracy=0.666/0.710 (21/62 secs)\n",
      "    Epoch 8: cost=0.504, accuracy=0.779/0.710 (20/82 secs)\n",
      "    Epoch 10: cost=0.577, accuracy=0.768/0.900 (20/102 secs)\n",
      "Model am_16 train ended in 102 secs:\n",
      "Model am_16 test report: accuracy = 0.820, (0 secs)\n",
      "\n",
      "Model am_16 Visualization\n",
      "8w2+h5afg3m: 잘못된 패턴 => 탈락추정(0.09) : O\n",
      "nj/172/007/4-r*uh*92: 올바른 패턴 => 합격추정(0.78) : O\n",
      "344t1583-p6: 잘못된 패턴 => 탈락추정(0.22) : O\n"
     ]
    }
   ],
   "source": [
    "am_16.exec_all(epoch_count=10, report=2)"
   ]
  },
  {
   "cell_type": "code",
   "execution_count": 5,
   "metadata": {},
   "outputs": [
    {
     "name": "stdout",
     "output_type": "stream",
     "text": [
      "Model am_64 train started:\n",
      "    Epoch 2: cost=0.691, accuracy=0.523/0.530 (28/28 secs)\n",
      "    Epoch 4: cost=0.658, accuracy=0.588/0.640 (27/55 secs)\n",
      "    Epoch 6: cost=0.377, accuracy=0.847/0.930 (28/83 secs)\n",
      "    Epoch 8: cost=0.306, accuracy=0.885/0.830 (28/111 secs)\n",
      "    Epoch 10: cost=0.331, accuracy=0.874/0.940 (27/138 secs)\n",
      "Model am_64 train ended in 138 secs:\n",
      "Model am_64 test report: accuracy = 0.881, (0 secs)\n",
      "\n",
      "Model am_64 Visualization\n",
      "cp*(v9n7/zbx*(q+f5/0g9)): 잘못된 패턴 => 탈락추정(0.01) : O\n",
      "((tw/t)+suy5+e*a)/62+0: 올바른 패턴 => 합격추정(0.88) : O\n",
      "a1wj-3411160*78f*394019x5+1/66/x: 잘못된 패턴 => 탈락추정(0.09) : O\n"
     ]
    }
   ],
   "source": [
    "am_64.exec_all(epoch_count=10, report=2)"
   ]
  },
  {
   "cell_type": "code",
   "execution_count": 6,
   "metadata": {},
   "outputs": [
    {
     "name": "stdout",
     "output_type": "stream",
     "text": [
      "Model am_64_drop train started:\n",
      "    Epoch 2: cost=0.692, accuracy=0.523/0.540 (24/24 secs)\n",
      "    Epoch 4: cost=0.680, accuracy=0.594/0.530 (23/47 secs)\n",
      "    Epoch 6: cost=0.602, accuracy=0.690/0.820 (24/71 secs)\n",
      "    Epoch 8: cost=0.433, accuracy=0.819/0.830 (24/95 secs)\n",
      "    Epoch 10: cost=0.351, accuracy=0.870/0.840 (24/119 secs)\n",
      "Model am_64_drop train ended in 119 secs:\n",
      "Model am_64_drop test report: accuracy = 0.894, (0 secs)\n",
      "\n",
      "Model am_64_drop Visualization\n",
      "m4k5+v73/330269*485*988)/8: 잘못된 패턴 => 합격추정(0.77) : X\n",
      "223-((p*4)*(981*(o+p)))*22*n5+x-t+71: 올바른 패턴 => 합격추정(0.61) : O\n",
      "6+d*jqm/(994u: 잘못된 패턴 => 탈락추정(0.29) : O\n"
     ]
    }
   ],
   "source": [
    "am_64_drop = RnnBasicModel('am_64_drop', ad,\n",
    "        [['rnn', {'recur_size':64, 'outseq':False}],\n",
    "         ['dropout', {'keep_prob':0.5}]])\n",
    "am_64_drop.exec_all(epoch_count=10, report=2)"
   ]
  }
 ],
 "metadata": {
  "kernelspec": {
   "display_name": "Python 3",
   "language": "python",
   "name": "python3"
  },
  "language_info": {
   "codemirror_mode": {
    "name": "ipython",
    "version": 3
   },
   "file_extension": ".py",
   "mimetype": "text/x-python",
   "name": "python",
   "nbconvert_exporter": "python",
   "pygments_lexer": "ipython3",
   "version": "3.4.3"
  }
 },
 "nbformat": 4,
 "nbformat_minor": 2
}
