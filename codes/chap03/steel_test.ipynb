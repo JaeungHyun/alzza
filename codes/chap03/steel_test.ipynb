{
 "cells": [
  {
   "cell_type": "code",
   "execution_count": 1,
   "metadata": {},
   "outputs": [],
   "source": [
    "%run steel.ipynb"
   ]
  },
  {
   "cell_type": "code",
   "execution_count": 2,
   "metadata": {},
   "outputs": [
    {
     "name": "stdout",
     "output_type": "stream",
     "text": [
      "Epoch 1: loss=15.984, accuracy=0.306/0.320\n",
      "Epoch 2: loss=15.509, accuracy=0.326/0.197\n",
      "Epoch 3: loss=15.984, accuracy=0.306/0.348\n",
      "Epoch 4: loss=15.004, accuracy=0.348/0.197\n",
      "Epoch 5: loss=15.286, accuracy=0.336/0.202\n",
      "Epoch 6: loss=15.390, accuracy=0.332/0.440\n",
      "Epoch 7: loss=15.509, accuracy=0.326/0.442\n",
      "Epoch 8: loss=15.628, accuracy=0.321/0.455\n",
      "Epoch 9: loss=15.360, accuracy=0.333/0.322\n",
      "Epoch 10: loss=15.316, accuracy=0.335/0.455\n",
      "\n",
      "Final Test: final accuracy = 0.455\n"
     ]
    }
   ],
   "source": [
    "steel_exec()"
   ]
  },
  {
   "cell_type": "code",
   "execution_count": 3,
   "metadata": {},
   "outputs": [
    {
     "name": "stdout",
     "output_type": "stream",
     "text": [
      "Epoch 1: loss=16.471, accuracy=0.284/0.110\n",
      "Epoch 2: loss=15.479, accuracy=0.328/0.414\n",
      "Epoch 3: loss=15.509, accuracy=0.326/0.402\n",
      "Epoch 4: loss=15.316, accuracy=0.335/0.432\n",
      "Epoch 5: loss=15.479, accuracy=0.328/0.338\n",
      "Epoch 6: loss=14.796, accuracy=0.357/0.332\n",
      "Epoch 7: loss=15.346, accuracy=0.334/0.215\n",
      "Epoch 8: loss=15.524, accuracy=0.326/0.164\n",
      "Epoch 9: loss=15.375, accuracy=0.332/0.281\n",
      "Epoch 10: loss=15.331, accuracy=0.334/0.189\n",
      "\n",
      "Final Test: final accuracy = 0.189\n"
     ]
    }
   ],
   "source": [
    "LEARNING_RATE = 0.0001\n",
    "steel_exec()"
   ]
  }
 ],
 "metadata": {
  "kernelspec": {
   "display_name": "Python 3",
   "language": "python",
   "name": "python3"
  },
  "language_info": {
   "codemirror_mode": {
    "name": "ipython",
    "version": 3
   },
   "file_extension": ".py",
   "mimetype": "text/x-python",
   "name": "python",
   "nbconvert_exporter": "python",
   "pygments_lexer": "ipython3",
   "version": "3.4.3"
  }
 },
 "nbformat": 4,
 "nbformat_minor": 2
}
