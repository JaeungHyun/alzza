{
 "cells": [
  {
   "cell_type": "code",
   "execution_count": 1,
   "metadata": {},
   "outputs": [],
   "source": [
    "%run ../chap05/dataset.ipynb"
   ]
  },
  {
   "cell_type": "code",
   "execution_count": 2,
   "metadata": {},
   "outputs": [],
   "source": [
    "class AbaloneDataset(Dataset):\n",
    "    def __init__(self):\n",
    "        super(AbaloneDataset, self).__init__('abalone', 'regression')\n",
    "    \n",
    "        rows, _ = load_csv('../../data/chap01/abalone.csv')\n",
    "\n",
    "        xs = np.zeros([len(rows), 10])\n",
    "        ys = np.zeros([len(rows), 1])\n",
    "\n",
    "        for n, row in enumerate(rows):\n",
    "            if row[0] == 'I': xs[n, 0] = 1\n",
    "            if row[0] == 'M': xs[n, 1] = 1\n",
    "            if row[0] == 'F': xs[n, 2] = 1\n",
    "            xs[n, 3:] = row[1:-1]\n",
    "            ys[n, :] = row[-1:]\n",
    "        \n",
    "        self.shuffle_data(xs, ys, 0.8)\n",
    "        \n",
    "    def visualize(self, xs, estimates, answers):\n",
    "        for n in range(len(xs)):\n",
    "            x, est, ans = xs[n], estimates[n], answers[n]\n",
    "            xstr = vector_to_str(x, '%4.2f')\n",
    "            print('{} => 추정 {:4.1f} : 정답 {:4.1f}'.\n",
    "                  format(xstr, est[0], ans[0]))"
   ]
  },
  {
   "cell_type": "code",
   "execution_count": 3,
   "metadata": {},
   "outputs": [],
   "source": [
    "class PulsarDataset(Dataset):\n",
    "    def __init__(self):\n",
    "        super(PulsarDataset, self).__init__('pulsar', 'binary')\n",
    "    \n",
    "        rows, _ = load_csv('../../data/chap02/pulsar_stars.csv')\n",
    "\n",
    "        data = np.asarray(rows, dtype='float32')\n",
    "        self.shuffle_data(data[:,:-1], data[:,-1:], 0.8)\n",
    "        self.target_names = ['별', '펄서']\n",
    "        \n",
    "    def visualize(self, xs, estimates, answers):\n",
    "        for n in range(len(xs)):\n",
    "            x, est, ans = xs[n], estimates[n], answers[n]\n",
    "            xstr = vector_to_str(x, '%5.1f', 3)\n",
    "            estr = self.target_names[int(round(est[0]))]\n",
    "            astr = self.target_names[int(round(ans[0]))]\n",
    "            rstr = 'O'\n",
    "            if estr != astr: rstr = 'X'\n",
    "            print('{} => 추정 {}(확률 {:4.2f}) : 정답 {} => {}'. \\\n",
    "                  format(xstr, estr, est[0], astr, rstr))"
   ]
  },
  {
   "cell_type": "code",
   "execution_count": 4,
   "metadata": {},
   "outputs": [],
   "source": [
    "class SteelDataset(Dataset):\n",
    "    def __init__(self):\n",
    "        super(SteelDataset, self).__init__('steel', 'select')\n",
    "    \n",
    "        rows, headers = load_csv('../../data/chap03/faults.csv')\n",
    "\n",
    "        data = np.asarray(rows, dtype='float32')\n",
    "        self.shuffle_data(data[:,:-7], data[:,-7:], 0.8)\n",
    "        \n",
    "        self.target_names = headers[-7:]\n",
    "        \n",
    "    def visualize(self, xs, estimates, answers):\n",
    "        show_select_results(estimates, answers, self.target_names)"
   ]
  },
  {
   "cell_type": "code",
   "execution_count": 5,
   "metadata": {},
   "outputs": [],
   "source": [
    "class PulsarSelectDataset(Dataset):\n",
    "    def __init__(self):\n",
    "        super(PulsarSelectDataset, self).__init__('pulsarselect', 'select')\n",
    "    \n",
    "        rows, _ = load_csv('../../data/chap02/pulsar_stars.csv')\n",
    "\n",
    "        data = np.asarray(rows, dtype='float32')\n",
    "        self.shuffle_data(data[:,:-1], onehot(data[:,-1], 2), 0.8)\n",
    "        self.target_names = ['별', '펄서']\n",
    "        \n",
    "    def visualize(self, xs, estimates, answers):\n",
    "        show_select_results(estimates, answers, self.target_names)"
   ]
  }
 ],
 "metadata": {
  "kernelspec": {
   "display_name": "Python 3",
   "language": "python",
   "name": "python3"
  },
  "language_info": {
   "codemirror_mode": {
    "name": "ipython",
    "version": 3
   },
   "file_extension": ".py",
   "mimetype": "text/x-python",
   "name": "python",
   "nbconvert_exporter": "python",
   "pygments_lexer": "ipython3",
   "version": "3.4.3"
  }
 },
 "nbformat": 4,
 "nbformat_minor": 2
}
