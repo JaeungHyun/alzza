{
 "cells": [
  {
   "cell_type": "code",
   "execution_count": 1,
   "metadata": {},
   "outputs": [],
   "source": [
    "%run ../chap05/dataset.ipynb"
   ]
  },
  {
   "cell_type": "code",
   "execution_count": 2,
   "metadata": {},
   "outputs": [],
   "source": [
    "class GanDataset(Dataset):\n",
    "    pass"
   ]
  },
  {
   "cell_type": "code",
   "execution_count": 3,
   "metadata": {},
   "outputs": [],
   "source": [
    "def gan_visualize(self, xs):\n",
    "    show_cnt = len(xs)\n",
    "    fig, axes = plt.subplots(1, show_cnt, figsize=(show_cnt, 1))\n",
    "\n",
    "    for n in range(show_cnt):\n",
    "        plt.subplot(1, show_cnt, n+1)\n",
    "        if xs[n].shape[0] == 28*28:\n",
    "            plt.imshow(xs[n].reshape(28,28), cmap='Greys_r')\n",
    "        else:\n",
    "            plt.imshow(xs[n].reshape([32,32,3]))\n",
    "        plt.axis('off')\n",
    "\n",
    "    plt.draw()\n",
    "    plt.show()\n",
    "\n",
    "GanDataset.visualize = gan_visualize"
   ]
  },
  {
   "cell_type": "code",
   "execution_count": 4,
   "metadata": {},
   "outputs": [],
   "source": [
    "def gan_train_prt_result(self, epoch, costs, accs, acc, time1, time2):\n",
    "    dcost, gcost = np.mean(costs, axis=0)\n",
    "    dacc, gacc = acc\n",
    "    print('    Epoch {}: cost={:5.3f}/{:5.3f} acc={:5.3f}/{:5.3f} ({}/{} secs)'. \\\n",
    "          format(epoch, dcost, gcost, dacc, gacc, time1, time2))\n",
    "\n",
    "def gan_test_prt_result(self, name, acc, time):\n",
    "    dacc, gacc = acc\n",
    "    print('Model {} test report: accuracy = {:5.3f}/{:5.3f}, ({} secs)\\n'. \\\n",
    "          format(name, dacc, gacc, time))\n",
    "\n",
    "GanDataset.train_prt_result = gan_train_prt_result\n",
    "GanDataset.test_prt_result = gan_test_prt_result"
   ]
  },
  {
   "cell_type": "code",
   "execution_count": 5,
   "metadata": {},
   "outputs": [],
   "source": [
    "class GanDatasetPicture(GanDataset):\n",
    "    def __init__(self, fname):\n",
    "        super(GanDatasetPicture, self).__init__('pic_'+fname, 'binary')\n",
    "\n",
    "        pic_path = '../../data/chap15/pictures/'+fname\n",
    "        jpgfile = Image.open(pic_path)\n",
    "        pixels = np.array(jpgfile)\n",
    "        \n",
    "        hn = pixels.shape[0] // 32\n",
    "        wn = pixels.shape[1] // 32\n",
    "\n",
    "        pieces = pixels[0:hn*32, 0:wn*32, 0:3]\n",
    "        pieces = pieces.reshape([hn,32,wn,32,3])\n",
    "        pieces = pieces.transpose([0,2,1,3,4])\n",
    "        pieces = pieces.reshape([-1,32*32*3])\n",
    "\n",
    "\n",
    "        pieces = pieces / 255.0\n",
    "\n",
    "        self.shuffle_data(pieces, pieces)"
   ]
  },
  {
   "cell_type": "code",
   "execution_count": 6,
   "metadata": {},
   "outputs": [],
   "source": [
    "class GanDatasetMnist(GanDataset):\n",
    "    def __init__(self, name, max_cnt=0, nums=None):\n",
    "        super(GanDatasetMnist, self).__init__(name, 'binary')\n",
    "\n",
    "        tr_x_path = '../../data/chap13/mnist/train-images-idx3-ubyte'\n",
    "        tr_y_path = '../../data/chap13/mnist/train-labels-idx1-ubyte'\n",
    "\n",
    "        images = np.fromfile(tr_x_path, dtype='uint8')[16:]\n",
    "        labels = np.fromfile(tr_y_path, dtype='uint8')[8:]\n",
    "\n",
    "        images = images.reshape([-1,28*28])\n",
    "        images = (images - 127.5) / 127.5\n",
    "        \n",
    "        if max_cnt == 0: max_cnt = len(images)\n",
    "            \n",
    "        if nums is None:\n",
    "            xs = images[:max_cnt]\n",
    "        else:\n",
    "            ids = []\n",
    "            for n in range(len(images)):\n",
    "                if labels[n] in nums: ids.append(n)\n",
    "                if len(ids) >= max_cnt: break\n",
    "            xs = images[ids]\n",
    "\n",
    "        self.shuffle_data(xs, xs)"
   ]
  }
 ],
 "metadata": {
  "kernelspec": {
   "display_name": "Python 3",
   "language": "python",
   "name": "python3"
  },
  "language_info": {
   "codemirror_mode": {
    "name": "ipython",
    "version": 3
   },
   "file_extension": ".py",
   "mimetype": "text/x-python",
   "name": "python",
   "nbconvert_exporter": "python",
   "pygments_lexer": "ipython3",
   "version": "3.4.3"
  }
 },
 "nbformat": 4,
 "nbformat_minor": 2
}
