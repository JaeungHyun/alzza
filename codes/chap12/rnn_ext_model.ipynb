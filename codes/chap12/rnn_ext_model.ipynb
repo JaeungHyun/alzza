{
 "cells": [
  {
   "cell_type": "code",
   "execution_count": 1,
   "metadata": {},
   "outputs": [],
   "source": [
    "%run ../chap11/rnn_lstm_model.ipynb"
   ]
  },
  {
   "cell_type": "code",
   "execution_count": 2,
   "metadata": {},
   "outputs": [],
   "source": [
    "class RnnExtModel(RnnLstmModel):\n",
    "    pass"
   ]
  },
  {
   "cell_type": "code",
   "execution_count": 3,
   "metadata": {},
   "outputs": [],
   "source": [
    "def rnn_ext_alloc_seqwrap_layer(self, input_shape, hconfig):\n",
    "    pms = []\n",
    "    prev_shape = input_shape[1:]\n",
    "    \n",
    "    if not isinstance(hconfig[1], dict): hconfig.insert(1, {})\n",
    "        \n",
    "    for hconfig in hconfig[2:]:\n",
    "        pm, prev_shape = self.alloc_layer_param(prev_shape, hconfig)\n",
    "        pms.append(pm)\n",
    "        \n",
    "    if isinstance(prev_shape, int): prev_shape = [prev_shape]\n",
    "    output_shape = [input_shape[0]] + list(prev_shape)\n",
    "    \n",
    "    return pms, output_shape\n",
    "\n",
    "RnnExtModel.alloc_seqwrap_layer = rnn_ext_alloc_seqwrap_layer"
   ]
  },
  {
   "cell_type": "code",
   "execution_count": 4,
   "metadata": {},
   "outputs": [],
   "source": [
    "def rnn_ext_forward_seqwrap_layer(self, x, hconfig, pm):\n",
    "    mb_size, timesteps1, rest = x.shape[0], x.shape[1], x.shape[2:]\n",
    "    \n",
    "    lengths = x.reshape([x.shape[0], -1])[:, 0]\n",
    "    xbody = x[:, 1:].reshape([-1]+list(rest))\n",
    "        \n",
    "    pms = pm\n",
    "    hidden = xbody\n",
    "    aux_layers = []\n",
    "\n",
    "    for n, hconfig in enumerate(hconfig[2:]):\n",
    "        hidden, aux_h = self.forward_layer(hidden, hconfig, pms[n])\n",
    "        aux_layers.append(aux_h)\n",
    "\n",
    "    y_shape = tuple([mb_size, timesteps1]) + hidden.shape[1:]\n",
    "        \n",
    "    y = np.zeros([mb_size, timesteps1, np.prod(y_shape[2:])])\n",
    "    y[:, 0, 0] = lengths\n",
    "    y[:, 1:, :] = hidden.reshape([mb_size, timesteps1-1, -1])\n",
    "    y = y.reshape(y_shape)\n",
    "\n",
    "    return y, [lengths, x.shape, hidden.shape, aux_layers]\n",
    "\n",
    "RnnExtModel.forward_seqwrap_layer = rnn_ext_forward_seqwrap_layer"
   ]
  },
  {
   "cell_type": "code",
   "execution_count": 5,
   "metadata": {},
   "outputs": [],
   "source": [
    "def rnn_ext_backprop_seqwrap_layer(self, G_y, hconfig, pm, aux):\n",
    "    mb_size, timesteps1, rest = G_y.shape\n",
    "    lengths, x_shape, h_shape, aux_layers = aux\n",
    "    \n",
    "    G_y_body = G_y.reshape([mb_size, timesteps1, -1])[:, 1:, :]\n",
    "    G_hidden = G_y_body.reshape(h_shape)\n",
    "    \n",
    "    for n in reversed(range(len(hconfig[2:]))):\n",
    "        config_h, pm_h, aux_h = hconfig[n+2], pm[n], aux_layers[n]\n",
    "        G_hidden = self.backprop_layer(G_hidden, config_h, pm_h, aux_h)\n",
    "\n",
    "    G_x = np.zeros([mb_size, timesteps1, np.prod(x_shape[2:])])\n",
    "    G_x[:, 0, 0] = lengths\n",
    "    G_x[:, 1:, :] = G_hidden.reshape([mb_size, timesteps1-1, -1])\n",
    "    G_input = G_x.reshape(x_shape)\n",
    "                               \n",
    "    return G_input\n",
    "\n",
    "RnnExtModel.backprop_seqwrap_layer = rnn_ext_backprop_seqwrap_layer"
   ]
  },
  {
   "cell_type": "code",
   "execution_count": 6,
   "metadata": {},
   "outputs": [],
   "source": [
    "def rnn_ext_init_parameters(self, hconfigs):\n",
    "    self.hconfigs = hconfigs\n",
    "    self.pm_hiddens = []\n",
    "\n",
    "    prev_shape = self.dataset.input_shape\n",
    "\n",
    "    for hconfig in hconfigs:\n",
    "        pm_hidden, prev_shape = self.alloc_layer_param(prev_shape, hconfig)\n",
    "        self.pm_hiddens.append(pm_hidden)\n",
    "\n",
    "    output_cnt = int(np.prod(self.dataset.output_shape))\n",
    "    self.seqout = False\n",
    "\n",
    "    if len(hconfigs) > 0 and get_layer_type(hconfigs[-1]) in ['rnn', 'lstm']:\n",
    "        if get_conf_param(hconfigs[-1], 'outseq', True):\n",
    "            self.seqout = True\n",
    "            prev_shape = prev_shape[1:]\n",
    "            output_cnt = int(np.prod(self.dataset.output_shape[1:]))\n",
    "\n",
    "    self.pm_output, _ = self.alloc_layer_param(prev_shape, output_cnt)\n",
    "        \n",
    "RnnExtModel.init_parameters = rnn_ext_init_parameters"
   ]
  },
  {
   "cell_type": "code",
   "execution_count": 7,
   "metadata": {},
   "outputs": [],
   "source": [
    "def rnn_ext_forward_neuralnet(self, x):\n",
    "    hidden = x\n",
    "    aux_layers = []\n",
    "\n",
    "    for n, hconfig in enumerate(self.hconfigs):\n",
    "        hidden, aux = self.forward_layer(hidden, hconfig, self.pm_hiddens[n])\n",
    "        aux_layers.append(aux)\n",
    "\n",
    "    if self.seqout:\n",
    "        hshape = hidden.shape\n",
    "        mb_size, timesteps = hshape[0], hshape[1]-1\n",
    "        \n",
    "        hidden_temp = hidden.reshape([mb_size, timesteps+1, -1])\n",
    "        lengths = hidden_temp[:, 0, 0]\n",
    "        hidden_flat = hidden_temp[:, 1:, :].reshape(mb_size*timesteps, -1)\n",
    "\n",
    "        output_size = self.pm_output['w'].shape[1]\n",
    "        \n",
    "        out_flat, aux_flat = self.forward_layer(hidden_flat, None, \n",
    "                                self.pm_output)\n",
    "\n",
    "        output = np.zeros([mb_size, timesteps+1, output_size])\n",
    "        output[:, 0, 0] = lengths\n",
    "        output[:, 1:, :] = out_flat.reshape([mb_size, timesteps, output_size])\n",
    "        aux_out = [aux_flat, hshape]\n",
    "    else:\n",
    "        output, aux_out = self.forward_layer(hidden, None, self.pm_output)\n",
    "    \n",
    "    return output, [aux_out, aux_layers]\n",
    "\n",
    "RnnExtModel.forward_neuralnet = rnn_ext_forward_neuralnet"
   ]
  },
  {
   "cell_type": "code",
   "execution_count": 8,
   "metadata": {},
   "outputs": [],
   "source": [
    "def rnn_ext_backprop_neuralnet(self, G_output, aux):\n",
    "    aux_out, aux_layers = aux\n",
    "    \n",
    "    if self.seqout:\n",
    "        aux_flat, hshape = aux_out\n",
    "        mb_size, timesteps = hshape[0], hshape[1]-1\n",
    "        output_size = self.pm_output['w'].shape[1]\n",
    "        G_out_flat = G_output[:,1:,:].reshape([mb_size*timesteps, output_size])\n",
    "        G_hidden_flat = self.backprop_layer(G_out_flat, None, \\\n",
    "                                            self.pm_output, aux_flat)\n",
    "        G_hidden = np.zeros(hshape)\n",
    "        G_hidden[:, 0, 0] = G_output[:, 0, 0]\n",
    "        G_hidden[:, 1:, :] = G_hidden_flat.reshape([mb_size, timesteps, -1])\n",
    "    else:\n",
    "        G_hidden = self.backprop_layer(G_output, None, self.pm_output, aux_out)\n",
    "    \n",
    "    for n in reversed(range(len(self.hconfigs))):\n",
    "        hconfig, pm, aux = self.hconfigs[n], self.pm_hiddens[n], aux_layers[n]\n",
    "        G_hidden = self.backprop_layer(G_hidden, hconfig, pm, aux)\n",
    "\n",
    "    return G_hidden\n",
    "\n",
    "RnnExtModel.backprop_neuralnet = rnn_ext_backprop_neuralnet"
   ]
  }
 ],
 "metadata": {
  "kernelspec": {
   "display_name": "Python 3",
   "language": "python",
   "name": "python3"
  },
  "language_info": {
   "codemirror_mode": {
    "name": "ipython",
    "version": 3
   },
   "file_extension": ".py",
   "mimetype": "text/x-python",
   "name": "python",
   "nbconvert_exporter": "python",
   "pygments_lexer": "ipython3",
   "version": "3.4.3"
  }
 },
 "nbformat": 4,
 "nbformat_minor": 2
}
