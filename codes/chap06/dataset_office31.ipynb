{
 "cells": [
  {
   "cell_type": "code",
   "execution_count": 1,
   "metadata": {},
   "outputs": [],
   "source": [
    "%run ../chap05/dataset.ipynb"
   ]
  },
  {
   "cell_type": "code",
   "execution_count": 2,
   "metadata": {},
   "outputs": [],
   "source": [
    "class Office31Dataset(Dataset):\n",
    "    @property\n",
    "    def base(self):\n",
    "        return super(Office31Dataset, self)"
   ]
  },
  {
   "cell_type": "code",
   "execution_count": 3,
   "metadata": {},
   "outputs": [],
   "source": [
    "def office31_init(self, resolution=[100,100], input_shape=[-1]):\n",
    "    self.base.__init__('office31', 'dual_select')\n",
    "    \n",
    "    path = '../../data/chap06/office31'\n",
    "    domain_names = list_dir(path)\n",
    "    \n",
    "    images = []\n",
    "    didxs, oidxs = [], []\n",
    "    \n",
    "    for dx, dname in enumerate(domain_names):\n",
    "        domainpath = os.path.join(path, dname, 'images')\n",
    "        object_names = list_dir(domainpath)\n",
    "        for ox, oname in enumerate(object_names):\n",
    "            objectpath = os.path.join(domainpath, oname)\n",
    "            filenames = list_dir(objectpath)\n",
    "            for fname in filenames:\n",
    "                if fname[-4:] != '.jpg':\n",
    "                    continue\n",
    "                imagepath = os.path.join(objectpath, fname)\n",
    "                pixels = load_image_pixels(imagepath, resolution, input_shape)\n",
    "                images.append(pixels)\n",
    "                didxs.append(dx)\n",
    "                oidxs.append(ox)\n",
    "\n",
    "    self.image_shape = resolution + [3]\n",
    "\n",
    "    xs = np.asarray(images, np.float32)\n",
    "\n",
    "    ys0 = onehot(didxs, len(domain_names))\n",
    "    ys1 = onehot(oidxs, len(object_names))\n",
    "    ys = np.hstack([ys0, ys1])\n",
    "    \n",
    "    self.shuffle_data(xs, ys, 0.8)\n",
    "    self.target_names = [domain_names, object_names]    \n",
    "    self.cnts = [len(domain_names)]"
   ]
  },
  {
   "cell_type": "code",
   "execution_count": 4,
   "metadata": {},
   "outputs": [],
   "source": [
    "def office31_forward_postproc(self, output, y):\n",
    "    outputs, ys = np.hsplit(output, self.cnts), np.hsplit(y, self.cnts)\n",
    "    \n",
    "    loss0, aux0 = self.base.forward_postproc(outputs[0], ys[0], 'select')\n",
    "    loss1, aux1 = self.base.forward_postproc(outputs[1], ys[1], 'select')\n",
    "        \n",
    "    return loss0 + loss1, [aux0, aux1]"
   ]
  },
  {
   "cell_type": "code",
   "execution_count": 5,
   "metadata": {},
   "outputs": [],
   "source": [
    "def office31_backprop_postproc(self, G_loss, aux):\n",
    "    aux0, aux1 = aux\n",
    "    \n",
    "    G_ouput0 = self.base.backprop_postproc(G_loss, aux0, 'select')\n",
    "    G_ouput1 = self.base.backprop_postproc(G_loss, aux1, 'select')\n",
    "    \n",
    "    return np.hstack([G_ouput0, G_ouput1])"
   ]
  },
  {
   "cell_type": "code",
   "execution_count": 6,
   "metadata": {},
   "outputs": [],
   "source": [
    "def office31_eval_accuracy(self, x, y, output):\n",
    "    outputs, ys = np.hsplit(output, self.cnts), np.hsplit(y, self.cnts)\n",
    "\n",
    "    acc0 = self.base.eval_accuracy(x, ys[0], outputs[0], 'select')\n",
    "    acc1 = self.base.eval_accuracy(x, ys[1], outputs[1], 'select')\n",
    "    \n",
    "    return [acc0, acc1]\n",
    "\n",
    "def office31_train_prt_result(self, epoch, costs, accs, acc, time1, time2):\n",
    "    acc_pair = np.mean(accs, axis=0)\n",
    "    print('    Epoch {}: cost={:5.3f}, ' \\\n",
    "          'accuracy={:5.3f}+{:5.3f}/{:5.3f}+{:5.3f} ({}/{} secs)'. \\\n",
    "          format(epoch, np.mean(costs), acc_pair[0], acc_pair[1], \\\n",
    "                 acc[0], acc[1], time1, time2))\n",
    "\n",
    "def office31_test_prt_result(self, name, acc, time):\n",
    "    print('Model {} test report: accuracy = {:5.3f}+{:5.3f}, ({} secs)\\n'. \\\n",
    "          format(name, acc[0], acc[1], time))"
   ]
  },
  {
   "cell_type": "code",
   "execution_count": 7,
   "metadata": {},
   "outputs": [],
   "source": [
    "def office31_get_estimate(self, output):\n",
    "    outputs = np.hsplit(output, self.cnts)\n",
    "\n",
    "    estimate0 = self.base.get_estimate(outputs[0], 'select')\n",
    "    estimate1 = self.base.get_estimate(outputs[1], 'select')\n",
    "    \n",
    "    return np.hstack([estimate0, estimate1])\n",
    "\n",
    "def office31_visualize(self, xs, estimates, answers):\n",
    "    draw_images_horz(xs, self.image_shape)\n",
    "    \n",
    "    ests, anss = np.hsplit(estimates, self.cnts), np.hsplit(answers, self.cnts)\n",
    "    \n",
    "    captions = ['도메인', '상품']\n",
    "    \n",
    "    for m in range(2):\n",
    "        print('[ {} 추정결과 ]'.format(captions[m]))\n",
    "        show_select_results(ests[m], anss[m], self.target_names[m], 8)"
   ]
  },
  {
   "cell_type": "code",
   "execution_count": 8,
   "metadata": {},
   "outputs": [],
   "source": [
    "Office31Dataset.__init__          = office31_init\n",
    "Office31Dataset.forward_postproc  = office31_forward_postproc\n",
    "Office31Dataset.backprop_postproc = office31_backprop_postproc\n",
    "Office31Dataset.eval_accuracy     = office31_eval_accuracy\n",
    "Office31Dataset.get_estimate      = office31_get_estimate\n",
    "Office31Dataset.train_prt_result  = office31_train_prt_result\n",
    "Office31Dataset.test_prt_result   = office31_test_prt_result\n",
    "Office31Dataset.visualize         = office31_visualize"
   ]
  }
 ],
 "metadata": {
  "kernelspec": {
   "display_name": "Python 3",
   "language": "python",
   "name": "python3"
  },
  "language_info": {
   "codemirror_mode": {
    "name": "ipython",
    "version": 3
   },
   "file_extension": ".py",
   "mimetype": "text/x-python",
   "name": "python",
   "nbconvert_exporter": "python",
   "pygments_lexer": "ipython3",
   "version": "3.4.3"
  }
 },
 "nbformat": 4,
 "nbformat_minor": 2
}
