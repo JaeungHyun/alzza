{
 "cells": [
  {
   "cell_type": "code",
   "execution_count": 1,
   "metadata": {},
   "outputs": [],
   "source": [
    "%run ../chap05/mlp_model.ipynb"
   ]
  },
  {
   "cell_type": "code",
   "execution_count": 2,
   "metadata": {},
   "outputs": [],
   "source": [
    "class AdamModel(MlpModel):\n",
    "    def __init__(self, name, dataset, hconfigs):\n",
    "        self.use_adam = False\n",
    "        super(AdamModel, self).__init__(name, dataset, hconfigs)"
   ]
  },
  {
   "cell_type": "code",
   "execution_count": 3,
   "metadata": {},
   "outputs": [],
   "source": [
    "def adam_backprop_layer(self, G_y, hconfig, pm, aux):\n",
    "    x, y = aux\n",
    "    \n",
    "    if hconfig is not None: G_y = relu_derv(y) * G_y\n",
    "    \n",
    "    g_y_weight = x.transpose()\n",
    "    g_y_input = pm['w'].transpose()\n",
    "    \n",
    "    G_weight = np.matmul(g_y_weight, G_y)\n",
    "    G_bias = np.sum(G_y, axis=0)\n",
    "    G_input = np.matmul(G_y, g_y_input)\n",
    "    \n",
    "    self.update_param(pm, 'w',  G_weight)\n",
    "    self.update_param(pm, 'b',  G_bias)\n",
    "\n",
    "    return G_input\n",
    "\n",
    "AdamModel.backprop_layer = adam_backprop_layer"
   ]
  },
  {
   "cell_type": "code",
   "execution_count": 4,
   "metadata": {},
   "outputs": [],
   "source": [
    "def adam_update_param(self, pm, key, delta):\n",
    "    if self.use_adam:\n",
    "        delta = self.eval_adam_delta(pm, key, delta)\n",
    "    \n",
    "    pm[key] -= self.learning_rate * delta\n",
    "        \n",
    "AdamModel.update_param = adam_update_param"
   ]
  },
  {
   "cell_type": "code",
   "execution_count": 5,
   "metadata": {},
   "outputs": [],
   "source": [
    "def adam_eval_adam_delta(self, pm, key, delta):\n",
    "    ro_1 = 0.9\n",
    "    ro_2 = 0.999\n",
    "    epsilon = 1.0e-8\n",
    "    \n",
    "    skey, tkey, step = 's' + key, 't' + key, 'n' + key\n",
    "    if skey not in pm:\n",
    "        pm[skey] = np.zeros(pm[key].shape)\n",
    "        pm[tkey] = np.zeros(pm[key].shape)\n",
    "        pm[step] = 0\n",
    "        \n",
    "    s = pm[skey] = ro_1 * pm[skey] + (1 - ro_1) * delta\n",
    "    t = pm[tkey] = ro_2 * pm[tkey] + (1 - ro_2) * (delta * delta)\n",
    "    \n",
    "    pm[step] += 1\n",
    "    s = s / (1 - np.power(ro_1, pm[step]))\n",
    "    t = t / (1 - np.power(ro_2, pm[step]))\n",
    "    \n",
    "    return s / (np.sqrt(t)+epsilon)\n",
    "\n",
    "AdamModel.eval_adam_delta = adam_eval_adam_delta"
   ]
  }
 ],
 "metadata": {
  "kernelspec": {
   "display_name": "Python 3",
   "language": "python",
   "name": "python3"
  },
  "language_info": {
   "codemirror_mode": {
    "name": "ipython",
    "version": 3
   },
   "file_extension": ".py",
   "mimetype": "text/x-python",
   "name": "python",
   "nbconvert_exporter": "python",
   "pygments_lexer": "ipython3",
   "version": "3.4.3"
  }
 },
 "nbformat": 4,
 "nbformat_minor": 2
}
