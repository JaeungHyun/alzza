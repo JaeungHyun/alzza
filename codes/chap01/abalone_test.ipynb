{
 "cells": [
  {
   "cell_type": "code",
   "execution_count": 1,
   "metadata": {},
   "outputs": [],
   "source": [
    "%run abalone.ipynb"
   ]
  },
  {
   "cell_type": "code",
   "execution_count": 2,
   "metadata": {},
   "outputs": [
    {
     "name": "stdout",
     "output_type": "stream",
     "text": [
      "Epoch 1: loss=33.875, accuracy=0.557/0.812\n",
      "Epoch 2: loss=8.226, accuracy=0.820/0.814\n",
      "Epoch 3: loss=7.582, accuracy=0.812/0.809\n",
      "Epoch 4: loss=7.475, accuracy=0.808/0.811\n",
      "Epoch 5: loss=7.395, accuracy=0.810/0.809\n",
      "Epoch 6: loss=7.328, accuracy=0.808/0.810\n",
      "Epoch 7: loss=7.269, accuracy=0.808/0.811\n",
      "Epoch 8: loss=7.217, accuracy=0.808/0.812\n",
      "Epoch 9: loss=7.175, accuracy=0.810/0.810\n",
      "Epoch 10: loss=7.135, accuracy=0.809/0.810\n",
      "\n",
      "Final Test: final accuracy = 0.810\n"
     ]
    }
   ],
   "source": [
    "abalone_exec()"
   ]
  },
  {
   "cell_type": "code",
   "execution_count": 4,
   "metadata": {},
   "outputs": [
    {
     "name": "stdout",
     "output_type": "stream",
     "text": [
      "[[1.02697603]\n",
      " [1.47450981]\n",
      " [1.66960135]\n",
      " [2.04468668]\n",
      " [1.62513525]\n",
      " [0.60292627]\n",
      " [2.39993815]\n",
      " [0.54107313]\n",
      " [0.46878034]\n",
      " [1.01969382]]\n",
      "bias:  [4.16894769]\n"
     ]
    }
   ],
   "source": [
    "print(weight)\n",
    "print('bias: ', bias)"
   ]
  },
  {
   "cell_type": "code",
   "execution_count": 5,
   "metadata": {},
   "outputs": [
    {
     "name": "stdout",
     "output_type": "stream",
     "text": [
      "Epoch 20: loss=5.804, accuracy=0.825/0.831\n",
      "Epoch 40: loss=5.259, accuracy=0.834/0.828\n",
      "Epoch 60: loss=5.056, accuracy=0.837/0.838\n",
      "Epoch 80: loss=4.950, accuracy=0.838/0.840\n",
      "Epoch 100: loss=4.910, accuracy=0.840/0.826\n",
      "\n",
      "Final Test: final accuracy = 0.826\n"
     ]
    }
   ],
   "source": [
    "LEARNING_RATE = 0.1\n",
    "abalone_exec(epoch_count=100, mb_size=100, report=20)"
   ]
  },
  {
   "cell_type": "code",
   "execution_count": 7,
   "metadata": {},
   "outputs": [
    {
     "name": "stdout",
     "output_type": "stream",
     "text": [
      "Epoch 20: loss=5.845, accuracy=0.823/0.822\n",
      "Epoch 40: loss=5.350, accuracy=0.831/0.840\n",
      "Epoch 60: loss=5.149, accuracy=0.834/0.856\n",
      "Epoch 80: loss=5.080, accuracy=0.836/0.846\n",
      "Epoch 100: loss=5.027, accuracy=0.836/0.841\n",
      "Epoch 120: loss=5.031, accuracy=0.837/0.840\n",
      "Epoch 140: loss=5.006, accuracy=0.837/0.847\n",
      "Epoch 160: loss=5.016, accuracy=0.836/0.845\n",
      "Epoch 180: loss=5.000, accuracy=0.837/0.850\n",
      "Epoch 200: loss=4.977, accuracy=0.837/0.836\n",
      "Epoch 220: loss=4.978, accuracy=0.837/0.855\n",
      "Epoch 240: loss=4.971, accuracy=0.838/0.846\n",
      "Epoch 260: loss=4.972, accuracy=0.837/0.852\n",
      "Epoch 280: loss=4.970, accuracy=0.838/0.848\n",
      "Epoch 300: loss=4.950, accuracy=0.838/0.837\n",
      "Epoch 320: loss=4.954, accuracy=0.838/0.851\n",
      "Epoch 340: loss=4.954, accuracy=0.838/0.844\n",
      "Epoch 360: loss=4.945, accuracy=0.838/0.849\n",
      "Epoch 380: loss=4.974, accuracy=0.838/0.850\n",
      "Epoch 400: loss=4.966, accuracy=0.838/0.849\n",
      "Epoch 420: loss=4.950, accuracy=0.838/0.848\n",
      "Epoch 440: loss=4.941, accuracy=0.839/0.844\n",
      "Epoch 460: loss=4.917, accuracy=0.838/0.850\n",
      "Epoch 480: loss=4.945, accuracy=0.838/0.851\n",
      "Epoch 500: loss=4.950, accuracy=0.838/0.852\n",
      "Epoch 520: loss=4.914, accuracy=0.839/0.853\n",
      "Epoch 540: loss=4.903, accuracy=0.838/0.842\n",
      "Epoch 560: loss=4.935, accuracy=0.838/0.845\n",
      "Epoch 580: loss=4.915, accuracy=0.839/0.844\n",
      "Epoch 600: loss=4.930, accuracy=0.839/0.844\n",
      "Epoch 620: loss=4.918, accuracy=0.839/0.844\n",
      "Epoch 640: loss=4.913, accuracy=0.838/0.851\n",
      "Epoch 660: loss=4.925, accuracy=0.838/0.854\n",
      "Epoch 680: loss=4.920, accuracy=0.839/0.839\n",
      "Epoch 700: loss=4.934, accuracy=0.838/0.854\n",
      "Epoch 720: loss=4.901, accuracy=0.839/0.848\n",
      "Epoch 740: loss=4.898, accuracy=0.839/0.848\n",
      "Epoch 760: loss=4.931, accuracy=0.839/0.847\n",
      "Epoch 780: loss=4.911, accuracy=0.838/0.847\n",
      "Epoch 800: loss=4.909, accuracy=0.838/0.850\n",
      "Epoch 820: loss=4.907, accuracy=0.839/0.848\n",
      "Epoch 840: loss=4.948, accuracy=0.839/0.850\n",
      "Epoch 860: loss=4.919, accuracy=0.839/0.847\n",
      "Epoch 880: loss=4.923, accuracy=0.838/0.846\n",
      "Epoch 900: loss=4.896, accuracy=0.839/0.848\n",
      "Epoch 920: loss=4.922, accuracy=0.839/0.838\n",
      "Epoch 940: loss=4.915, accuracy=0.838/0.851\n",
      "Epoch 960: loss=4.905, accuracy=0.838/0.843\n",
      "Epoch 980: loss=4.897, accuracy=0.840/0.840\n",
      "Epoch 1000: loss=4.897, accuracy=0.840/0.833\n",
      "Epoch 1020: loss=4.912, accuracy=0.839/0.846\n",
      "Epoch 1040: loss=4.906, accuracy=0.839/0.838\n",
      "Epoch 1060: loss=4.911, accuracy=0.839/0.846\n",
      "Epoch 1080: loss=4.888, accuracy=0.840/0.833\n",
      "Epoch 1100: loss=4.908, accuracy=0.838/0.853\n",
      "Epoch 1120: loss=4.897, accuracy=0.839/0.825\n",
      "Epoch 1140: loss=4.916, accuracy=0.839/0.844\n",
      "Epoch 1160: loss=4.915, accuracy=0.839/0.849\n",
      "Epoch 1180: loss=4.898, accuracy=0.839/0.851\n",
      "Epoch 1200: loss=4.895, accuracy=0.839/0.849\n",
      "Epoch 1220: loss=4.903, accuracy=0.839/0.848\n",
      "Epoch 1240: loss=4.921, accuracy=0.838/0.846\n",
      "Epoch 1260: loss=4.927, accuracy=0.839/0.851\n",
      "Epoch 1280: loss=4.911, accuracy=0.839/0.846\n",
      "Epoch 1300: loss=4.896, accuracy=0.840/0.838\n",
      "Epoch 1320: loss=4.906, accuracy=0.838/0.851\n",
      "Epoch 1340: loss=4.908, accuracy=0.839/0.846\n",
      "Epoch 1360: loss=4.915, accuracy=0.839/0.837\n",
      "Epoch 1380: loss=4.871, accuracy=0.839/0.838\n",
      "Epoch 1400: loss=4.902, accuracy=0.839/0.852\n",
      "Epoch 1420: loss=4.910, accuracy=0.838/0.851\n",
      "Epoch 1440: loss=4.906, accuracy=0.839/0.848\n",
      "Epoch 1460: loss=4.906, accuracy=0.839/0.843\n",
      "Epoch 1480: loss=4.906, accuracy=0.839/0.845\n",
      "Epoch 1500: loss=4.892, accuracy=0.839/0.843\n",
      "Epoch 1520: loss=4.906, accuracy=0.838/0.851\n",
      "Epoch 1540: loss=4.902, accuracy=0.840/0.840\n",
      "Epoch 1560: loss=4.901, accuracy=0.839/0.844\n",
      "Epoch 1580: loss=4.917, accuracy=0.839/0.839\n",
      "Epoch 1600: loss=4.904, accuracy=0.839/0.845\n",
      "Epoch 1620: loss=4.914, accuracy=0.839/0.841\n",
      "Epoch 1640: loss=4.911, accuracy=0.838/0.845\n",
      "Epoch 1660: loss=4.907, accuracy=0.838/0.850\n",
      "Epoch 1680: loss=4.908, accuracy=0.839/0.840\n",
      "Epoch 1700: loss=4.909, accuracy=0.838/0.848\n",
      "Epoch 1720: loss=4.906, accuracy=0.839/0.850\n",
      "Epoch 1740: loss=4.904, accuracy=0.839/0.846\n",
      "Epoch 1760: loss=4.894, accuracy=0.840/0.835\n",
      "Epoch 1780: loss=4.896, accuracy=0.839/0.841\n",
      "Epoch 1800: loss=4.900, accuracy=0.839/0.845\n",
      "Epoch 1820: loss=4.909, accuracy=0.838/0.842\n",
      "Epoch 1840: loss=4.897, accuracy=0.838/0.847\n",
      "Epoch 1860: loss=4.901, accuracy=0.839/0.845\n",
      "Epoch 1880: loss=4.902, accuracy=0.839/0.840\n",
      "Epoch 1900: loss=4.912, accuracy=0.839/0.840\n",
      "Epoch 1920: loss=4.899, accuracy=0.840/0.842\n",
      "Epoch 1940: loss=4.913, accuracy=0.839/0.848\n",
      "Epoch 1960: loss=4.912, accuracy=0.839/0.844\n",
      "Epoch 1980: loss=4.892, accuracy=0.839/0.848\n",
      "Epoch 2000: loss=4.914, accuracy=0.839/0.851\n",
      "\n",
      "Final Test: final accuracy = 0.851\n"
     ]
    }
   ],
   "source": [
    "LEARNING_RATE = 0.1\n",
    "abalone_exec(epoch_count=2000, mb_size=100, report=20)"
   ]
  },
  {
   "cell_type": "code",
   "execution_count": null,
   "metadata": {},
   "outputs": [],
   "source": []
  }
 ],
 "metadata": {
  "kernelspec": {
   "display_name": "Tensorflow-env",
   "language": "python",
   "name": "tensorflow"
  },
  "language_info": {
   "codemirror_mode": {
    "name": "ipython",
    "version": 3
   },
   "file_extension": ".py",
   "mimetype": "text/x-python",
   "name": "python",
   "nbconvert_exporter": "python",
   "pygments_lexer": "ipython3",
   "version": "3.7.4"
  }
 },
 "nbformat": 4,
 "nbformat_minor": 4
}
