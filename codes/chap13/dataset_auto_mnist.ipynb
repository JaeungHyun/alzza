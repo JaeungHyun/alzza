{
 "cells": [
  {
   "cell_type": "code",
   "execution_count": 1,
   "metadata": {},
   "outputs": [],
   "source": [
    "%run ../chap05/dataset.ipynb"
   ]
  },
  {
   "cell_type": "code",
   "execution_count": 2,
   "metadata": {},
   "outputs": [],
   "source": [
    "class AutoencodeDataset(Dataset):\n",
    "    def __init__(self, name, mode, train_ratio=1.0):\n",
    "        self.train_ratio = train_ratio\n",
    "        super(AutoencodeDataset, self).__init__(name, mode)\n",
    "    \n",
    "    def get_autoencode_data(self, batch_size, nth):\n",
    "        xs, ys = self.get_train_data(batch_size, nth)\n",
    "        return xs\n",
    "    \n",
    "    @property\n",
    "    def train_count(self):\n",
    "        return int(len(self.tr_xs) * self.train_ratio)\n",
    "    \n",
    "    @property\n",
    "    def autoencode_count(self):\n",
    "        return len(self.tr_xs)"
   ]
  },
  {
   "cell_type": "code",
   "execution_count": 3,
   "metadata": {},
   "outputs": [],
   "source": [
    "class MnistAutoDataset(AutoencodeDataset):\n",
    "    def __init__(self, train_ratio=0.1):\n",
    "        super(MnistAutoDataset, self).__init__('mnist', 'select', train_ratio)\n",
    "\n",
    "        tr_x_path = '../../data/chap13/mnist/train-images-idx3-ubyte'\n",
    "        tr_y_path = '../../data/chap13/mnist/train-labels-idx1-ubyte'\n",
    "\n",
    "        xs = np.fromfile(tr_x_path, dtype='uint8')[16:]\n",
    "        ys = np.fromfile(tr_y_path, dtype='uint8')[8:]\n",
    "\n",
    "        xs = xs.reshape([-1, 28*28])\n",
    "        ys = np.eye(10)[ys]\n",
    "\n",
    "        self.shuffle_data(xs, ys)"
   ]
  },
  {
   "cell_type": "code",
   "execution_count": 4,
   "metadata": {},
   "outputs": [],
   "source": [
    "def mnist_visualize(self, xs, estimates, answers):\n",
    "    dump_text(answers, estimates)\n",
    "    dump_image_data(xs)\n",
    "\n",
    "def mnist_autoencode_visualize(self, xs, rep, estimates, answers):\n",
    "    dump_text(answers, estimates)\n",
    "    dump_image_data(xs)\n",
    "    dump_image_data(rep)\n",
    "\n",
    "def mnist_hash_result_visualize(self, images):\n",
    "    dump_image_data(images)\n",
    "\n",
    "def dump_text(answers, estimates):\n",
    "    ans = np.argmax(answers, axis=1)\n",
    "    est = np.argmax(estimates, axis=1)\n",
    "    print('정답', ans, ' vs. ', '추정', est)\n",
    "\n",
    "def dump_image_data(images):\n",
    "    show_cnt = len(images)\n",
    "    fig, axes = plt.subplots(1, show_cnt, figsize=(show_cnt, 1))\n",
    "\n",
    "    for n in range(show_cnt):\n",
    "        plt.subplot(1, show_cnt, n+1)\n",
    "        plt.imshow(images[n].reshape(28,28), cmap='Greys_r')\n",
    "        plt.axis('off')\n",
    "\n",
    "    plt.draw()\n",
    "    plt.show()\n",
    "\n",
    "MnistAutoDataset.visualize = mnist_visualize\n",
    "MnistAutoDataset.autoencode_visualize = mnist_autoencode_visualize\n",
    "MnistAutoDataset.hash_result_visualize = mnist_hash_result_visualize"
   ]
  }
 ],
 "metadata": {
  "kernelspec": {
   "display_name": "Python 3",
   "language": "python",
   "name": "python3"
  },
  "language_info": {
   "codemirror_mode": {
    "name": "ipython",
    "version": 3
   },
   "file_extension": ".py",
   "mimetype": "text/x-python",
   "name": "python",
   "nbconvert_exporter": "python",
   "pygments_lexer": "ipython3",
   "version": "3.4.3"
  }
 },
 "nbformat": 4,
 "nbformat_minor": 2
}
