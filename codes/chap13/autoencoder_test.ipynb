{
 "cells": [
  {
   "cell_type": "code",
   "execution_count": 1,
   "metadata": {},
   "outputs": [],
   "source": [
    "%run ../chap13/autoencoder.ipynb\n",
    "%run ../chap13/dataset_auto_mnist.ipynb"
   ]
  },
  {
   "cell_type": "code",
   "execution_count": 2,
   "metadata": {},
   "outputs": [],
   "source": [
    "mset_all = MnistAutoDataset(train_ratio=1.00)\n",
    "mset_1p = MnistAutoDataset(train_ratio=0.01)"
   ]
  },
  {
   "cell_type": "code",
   "execution_count": 3,
   "metadata": {},
   "outputs": [
    {
     "name": "stdout",
     "output_type": "stream",
     "text": [
      "Model mnist_mlp_all train started:\n",
      "    Epoch 2: cost=0.514, accuracy=0.864/0.880 (5/5 secs)\n",
      "    Epoch 4: cost=0.450, accuracy=0.884/0.930 (6/11 secs)\n",
      "    Epoch 6: cost=0.424, accuracy=0.896/0.820 (6/17 secs)\n",
      "    Epoch 8: cost=0.405, accuracy=0.901/0.840 (7/24 secs)\n",
      "    Epoch 10: cost=0.399, accuracy=0.902/0.960 (6/30 secs)\n",
      "Model mnist_mlp_all train ended in 30 secs:\n",
      "Model mnist_mlp_all test report: accuracy = 0.905, (0 secs)\n",
      "\n",
      "Model mnist_mlp_all Visualization\n",
      "정답 [4 4 9]  vs.  추정 [4 4 9]\n"
     ]
    },
    {
     "data": {
      "image/png": "[encoded data removed]",
      "text/plain": [
       "<matplotlib.figure.Figure at 0x7f68445f1208>"
      ]
     },
     "metadata": {},
     "output_type": "display_data"
    }
   ],
   "source": [
    "conf_mlp = [['full', {'width':10}]]\n",
    "\n",
    "mnist_mlp_all = RnnExtModel('mnist_mlp_all', mset_all, conf_mlp)\n",
    "mnist_mlp_all.exec_all(epoch_count=10, report=2)"
   ]
  },
  {
   "cell_type": "code",
   "execution_count": 4,
   "metadata": {},
   "outputs": [
    {
     "name": "stdout",
     "output_type": "stream",
     "text": [
      "Model mnist_mlp_1p train started:\n",
      "    Epoch 2: cost=1.402, accuracy=0.533/0.540 (0/0 secs)\n",
      "    Epoch 4: cost=0.870, accuracy=0.681/0.550 (0/0 secs)\n",
      "    Epoch 6: cost=0.579, accuracy=0.781/0.670 (0/0 secs)\n",
      "    Epoch 8: cost=0.419, accuracy=0.817/0.790 (0/0 secs)\n",
      "    Epoch 10: cost=0.337, accuracy=0.871/0.750 (0/0 secs)\n",
      "Model mnist_mlp_1p train ended in 0 secs:\n",
      "Model mnist_mlp_1p test report: accuracy = 0.684, (0 secs)\n",
      "\n",
      "Model mnist_mlp_1p Visualization\n",
      "정답 [0 2 0]  vs.  추정 [0 8 5]\n"
     ]
    },
    {
     "data": {
      "image/png": "[encoded data removed]",
      "text/plain": [
       "<matplotlib.figure.Figure at 0x7f67ceb7e470>"
      ]
     },
     "metadata": {},
     "output_type": "display_data"
    }
   ],
   "source": [
    "mnist_mlp_1p = RnnExtModel('mnist_mlp_1p', mset_1p, conf_mlp)\n",
    "mnist_mlp_1p.exec_all(epoch_count=10, report=2)"
   ]
  },
  {
   "cell_type": "code",
   "execution_count": 5,
   "metadata": {},
   "outputs": [
    {
     "name": "stdout",
     "output_type": "stream",
     "text": [
      "Model mnist_auto_1 autoencode started:\n",
      "    Epoch 2: cost=2556.567, accuracy=-0.526/-0.526 (9/9 secs)\n",
      "    Epoch 4: cost=2545.596, accuracy=-0.523/-0.523 (11/20 secs)\n",
      "    Epoch 6: cost=2542.326, accuracy=-0.522/-0.522 (12/32 secs)\n",
      "    Epoch 8: cost=2540.189, accuracy=-0.522/-0.522 (12/44 secs)\n",
      "    Epoch 10: cost=2538.084, accuracy=-0.521/-0.521 (11/55 secs)\n",
      "Model mnist_auto_1 autoencode ended in 55 secs:\n",
      "Model mnist_auto_1 train started:\n",
      "    Epoch 2: cost=1.375, accuracy=0.552/0.540 (0/0 secs)\n",
      "    Epoch 4: cost=0.955, accuracy=0.677/0.590 (1/1 secs)\n",
      "    Epoch 6: cost=0.821, accuracy=0.706/0.640 (0/1 secs)\n",
      "    Epoch 8: cost=0.718, accuracy=0.758/0.660 (0/1 secs)\n",
      "    Epoch 10: cost=0.638, accuracy=0.787/0.760 (0/1 secs)\n",
      "Model mnist_auto_1 train ended in 1 secs:\n",
      "Model mnist_auto_1 test report: accuracy = 0.746, (0 secs)\n",
      "\n",
      "Model mnist_auto_1 Visualization\n",
      "정답 [6 9 9]  vs.  추정 [6 9 9]\n"
     ]
    },
    {
     "data": {
      "image/png": "[encoded data removed]",
      "text/plain": [
       "<matplotlib.figure.Figure at 0x7f67cea16fd0>"
      ]
     },
     "metadata": {},
     "output_type": "display_data"
    },
    {
     "data": {
      "image/png": "[encoded data removed]",
      "text/plain": [
       "<matplotlib.figure.Figure at 0x7f67ce90a780>"
      ]
     },
     "metadata": {},
     "output_type": "display_data"
    }
   ],
   "source": [
    "conf_auto = {\n",
    "    'encoder': [['full', {'width':10}]],\n",
    "    'decoder': [['full', {'width':784}]],\n",
    "    'supervised': [['full', {'width':10}]]\n",
    "}\n",
    "\n",
    "mnist_auto_1 = Autoencoder('mnist_auto_1', mset_1p, conf_auto)\n",
    "mnist_auto_1.autoencode(epoch_count=10, report=2)\n",
    "mnist_auto_1.exec_all(epoch_count=10, report=2)"
   ]
  },
  {
   "cell_type": "code",
   "execution_count": 6,
   "metadata": {},
   "outputs": [
    {
     "name": "stdout",
     "output_type": "stream",
     "text": [
      "Model mnist_auto_fix autoencode started:\n",
      "    Epoch 5: cost=2448.894, accuracy=-0.493/-0.493 (26/26 secs)\n",
      "    Epoch 10: cost=2445.195, accuracy=-0.492/-0.492 (30/56 secs)\n",
      "Model mnist_auto_fix autoencode ended in 56 secs:\n",
      "Model mnist_auto_fix train started:\n",
      "    Epoch 5: cost=0.734, accuracy=0.740/0.690 (0/0 secs)\n",
      "    Epoch 10: cost=0.630, accuracy=0.798/0.740 (0/0 secs)\n",
      "Model mnist_auto_fix train ended in 0 secs:\n",
      "Model mnist_auto_fix test report: accuracy = 0.749, (0 secs)\n",
      "\n",
      "Model mnist_auto_fix Visualization\n",
      "정답 [9 8 3]  vs.  추정 [8 8 3]\n"
     ]
    },
    {
     "data": {
      "image/png": "[encoded data removed]",
      "text/plain": [
       "<matplotlib.figure.Figure at 0x7f67ce86dc88>"
      ]
     },
     "metadata": {},
     "output_type": "display_data"
    },
    {
     "data": {
      "image/png": "[encoded data removed]",
      "text/plain": [
       "<matplotlib.figure.Figure at 0x7f67ceb04828>"
      ]
     },
     "metadata": {},
     "output_type": "display_data"
    }
   ],
   "source": [
    "mnist_auto_fix = Autoencoder('mnist_auto_fix', mset_1p, conf_auto, \\\n",
    "                                                      fix_encoder=True)\n",
    "mnist_auto_fix.autoencode(epoch_count=10, report=5)\n",
    "mnist_auto_fix.exec_all(epoch_count=10, report=5)"
   ]
  },
  {
   "cell_type": "code",
   "execution_count": 7,
   "metadata": {},
   "outputs": [
    {
     "name": "stdout",
     "output_type": "stream",
     "text": [
      "Model mnist_auto_2 autoencode started:\n",
      "    Epoch 5: cost=2692.180, accuracy=-0.564/-0.564 (135/135 secs)\n",
      "    Epoch 10: cost=2646.832, accuracy=-0.551/-0.551 (171/306 secs)\n",
      "Model mnist_auto_2 autoencode ended in 306 secs:\n",
      "Model mnist_auto_2 train started:\n",
      "    Epoch 5: cost=0.764, accuracy=0.735/0.660 (1/1 secs)\n",
      "    Epoch 10: cost=0.611, accuracy=0.798/0.880 (0/1 secs)\n",
      "Model mnist_auto_2 train ended in 1 secs:\n",
      "Model mnist_auto_2 test report: accuracy = 0.796, (0 secs)\n",
      "\n",
      "Model mnist_auto_2 Visualization\n",
      "정답 [7 6 8]  vs.  추정 [7 6 8]\n"
     ]
    },
    {
     "data": {
      "image/png": "[encoded data removed]",
      "text/plain": [
       "<matplotlib.figure.Figure at 0x7f67ceb50a20>"
      ]
     },
     "metadata": {},
     "output_type": "display_data"
    },
    {
     "data": {
      "image/png": "[encoded data removed]",
      "text/plain": [
       "<matplotlib.figure.Figure at 0x7f67ce9491d0>"
      ]
     },
     "metadata": {},
     "output_type": "display_data"
    }
   ],
   "source": [
    "conf_auto_2 = {\n",
    "    'encoder': [['full', {'width':64}], ['full', {'width':10}]],\n",
    "    'decoder': [['full', {'width':64}], ['full', {'width':784}]],\n",
    "    'supervised': [['full', {'width':10}]]\n",
    "}\n",
    "\n",
    "mnist_auto_2 = Autoencoder('mnist_auto_2', mset_1p, conf_auto_2)\n",
    "mnist_auto_2.autoencode(epoch_count=10, report=5)\n",
    "mnist_auto_2.exec_all(epoch_count=10, report=5)"
   ]
  },
  {
   "cell_type": "code",
   "execution_count": 8,
   "metadata": {},
   "outputs": [
    {
     "name": "stdout",
     "output_type": "stream",
     "text": [
      "Model mnist_auto_3 autoencode started:\n",
      "    Epoch 5: cost=5323.163, accuracy=-1.201/-1.201 (115/115 secs)\n",
      "    Epoch 10: cost=5090.021, accuracy=-1.152/-1.152 (179/294 secs)\n",
      "Model mnist_auto_3 autoencode ended in 294 secs:\n",
      "Model mnist_auto_3 train started:\n",
      "    Epoch 5: cost=2.223, accuracy=0.154/0.180 (2/2 secs)\n",
      "    Epoch 10: cost=2.192, accuracy=0.177/0.130 (1/3 secs)\n",
      "Model mnist_auto_3 train ended in 3 secs:\n",
      "Model mnist_auto_3 test report: accuracy = 0.187, (0 secs)\n",
      "\n",
      "Model mnist_auto_3 Visualization\n",
      "정답 [3 6 6]  vs.  추정 [0 3 0]\n"
     ]
    },
    {
     "data": {
      "image/png": "[encoded data removed]",
      "text/plain": [
       "<matplotlib.figure.Figure at 0x7f67ceaa0198>"
      ]
     },
     "metadata": {},
     "output_type": "display_data"
    },
    {
     "data": {
      "image/png": "[encoded data removed]",
      "text/plain": [
       "<matplotlib.figure.Figure at 0x7f67ce75e550>"
      ]
     },
     "metadata": {},
     "output_type": "display_data"
    }
   ],
   "source": [
    "conf_auto_3 = {\n",
    "    'encoder': [['full', {'width':64}], ['full', {'width':1}]],\n",
    "    'decoder': [['full', {'width':64}], ['full', {'width':784}]],\n",
    "    'supervised': [['full', {'width':10}]]\n",
    "}\n",
    "\n",
    "mnist_auto_3 = Autoencoder('mnist_auto_3', mset_1p, conf_auto_3)\n",
    "mnist_auto_3.autoencode(epoch_count=10, report=5)\n",
    "mnist_auto_3.exec_all(epoch_count=10, report=5)"
   ]
  },
  {
   "cell_type": "code",
   "execution_count": 9,
   "metadata": {},
   "outputs": [
    {
     "name": "stdout",
     "output_type": "stream",
     "text": [
      "Model mnist_hash_1 autoencode started:\n",
      "    Epoch 5: cost=4849.563, accuracy=-1.102/-1.102 (35/35 secs)\n",
      "    Epoch 10: cost=4684.849, accuracy=-1.066/-1.066 (40/75 secs)\n",
      "Model mnist_hash_1 autoencode ended in 75 secs:\n"
     ]
    },
    {
     "data": {
      "image/png": "[encoded data removed]",
      "text/plain": [
       "<matplotlib.figure.Figure at 0x7f67ce7b6b00>"
      ]
     },
     "metadata": {},
     "output_type": "display_data"
    },
    {
     "data": {
      "image/png": "[encoded data removed]",
      "text/plain": [
       "<matplotlib.figure.Figure at 0x7f67cea5ed68>"
      ]
     },
     "metadata": {},
     "output_type": "display_data"
    },
    {
     "data": {
      "image/png": "[encoded data removed]",
      "text/plain": [
       "<matplotlib.figure.Figure at 0x7f67ce9f83c8>"
      ]
     },
     "metadata": {},
     "output_type": "display_data"
    }
   ],
   "source": [
    "conf_hash_1 = {\n",
    "    'encoder': [['full', {'width':10, 'actfunc':'sigmoid'}]],\n",
    "    'decoder': [['full', {'width':784}]],\n",
    "    'supervised': []\n",
    "}\n",
    "\n",
    "mnist_hash_1 = Autoencoder('mnist_hash_1', mset_1p, conf_hash_1)\n",
    "mnist_hash_1.autoencode(epoch_count=10, report=5)\n",
    "mnist_hash_1.semantic_hasing_index()\n",
    "mnist_hash_1.semantic_hasing_search()"
   ]
  },
  {
   "cell_type": "code",
   "execution_count": 10,
   "metadata": {},
   "outputs": [
    {
     "name": "stdout",
     "output_type": "stream",
     "text": [
      "Model mnist_hash autoencode started:\n",
      "    Epoch 5: cost=4739.787, accuracy=-1.076/-1.076 (146/146 secs)\n",
      "    Epoch 10: cost=4657.025, accuracy=-1.059/-1.059 (192/338 secs)\n",
      "Model mnist_hash autoencode ended in 338 secs:\n"
     ]
    },
    {
     "data": {
      "image/png": "[encoded data removed]",
      "text/plain": [
       "<matplotlib.figure.Figure at 0x7f67cdf43d30>"
      ]
     },
     "metadata": {},
     "output_type": "display_data"
    },
    {
     "data": {
      "image/png": "[encoded data removed]",
      "text/plain": [
       "<matplotlib.figure.Figure at 0x7f67c7cc6128>"
      ]
     },
     "metadata": {},
     "output_type": "display_data"
    },
    {
     "data": {
      "image/png": "[encoded data removed]",
      "text/plain": [
       "<matplotlib.figure.Figure at 0x7f682ff8c160>"
      ]
     },
     "metadata": {},
     "output_type": "display_data"
    }
   ],
   "source": [
    "conf_hash_2 = {\n",
    "    'encoder': [['full', {'width':64}],\n",
    "                ['full', {'width':10, 'actfunc':'sigmoid'}]],\n",
    "    'decoder': [['full', {'width':64}],\n",
    "                ['full', {'width':784}]],\n",
    "    'supervised': []\n",
    "}\n",
    "\n",
    "mnist_hash_2 = Autoencoder('mnist_hash_2', mset_1p, conf_hash_2)\n",
    "mnist_hash_2.autoencode(epoch_count=10, report=5)\n",
    "mnist_hash_2.semantic_hasing_index()\n",
    "mnist_hash_2.semantic_hasing_search()"
   ]
  },
  {
   "cell_type": "code",
   "execution_count": 11,
   "metadata": {},
   "outputs": [
    {
     "name": "stdout",
     "output_type": "stream",
     "text": [
      "Model mnist_hash autoencode started:\n",
      "    Epoch 10: cost=4411.781, accuracy=-1.004/-1.004 (391/391 secs)\n",
      "    Epoch 20: cost=4281.282, accuracy=-0.974/-0.974 (405/796 secs)\n",
      "    Epoch 30: cost=4189.521, accuracy=-0.953/-0.953 (411/1207 secs)\n",
      "    Epoch 40: cost=4118.092, accuracy=-0.936/-0.936 (415/1622 secs)\n",
      "Model mnist_hash autoencode ended in 1622 secs:\n"
     ]
    },
    {
     "data": {
      "image/png": "[encoded data removed]",
      "text/plain": [
       "<matplotlib.figure.Figure at 0x7f67c7db5240>"
      ]
     },
     "metadata": {},
     "output_type": "display_data"
    },
    {
     "data": {
      "image/png": "[encoded data removed]",
      "text/plain": [
       "<matplotlib.figure.Figure at 0x7f67cdd44630>"
      ]
     },
     "metadata": {},
     "output_type": "display_data"
    },
    {
     "data": {
      "image/png": "[encoded data removed]",
      "text/plain": [
       "<matplotlib.figure.Figure at 0x7f67cdaf93c8>"
      ]
     },
     "metadata": {},
     "output_type": "display_data"
    }
   ],
   "source": [
    "mnist_hash_2.autoencode(epoch_count=40, report=10)\n",
    "mnist_hash_2.semantic_hasing_index()\n",
    "mnist_hash_2.semantic_hasing_search()"
   ]
  }
 ],
 "metadata": {
  "kernelspec": {
   "display_name": "Python 3",
   "language": "python",
   "name": "python3"
  },
  "language_info": {
   "codemirror_mode": {
    "name": "ipython",
    "version": 3
   },
   "file_extension": ".py",
   "mimetype": "text/x-python",
   "name": "python",
   "nbconvert_exporter": "python",
   "pygments_lexer": "ipython3",
   "version": "3.4.3"
  }
 },
 "nbformat": 4,
 "nbformat_minor": 2
}
