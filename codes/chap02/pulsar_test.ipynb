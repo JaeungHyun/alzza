{
 "cells": [
  {
   "cell_type": "code",
   "execution_count": 1,
   "metadata": {},
   "outputs": [],
   "source": [
    "%run ../chap02/pulsar.ipynb"
   ]
  },
  {
   "cell_type": "code",
   "execution_count": 2,
   "metadata": {},
   "outputs": [
    {
     "name": "stdout",
     "output_type": "stream",
     "text": [
      "Epoch 1: loss=0.154, accuracy=0.959/0.972\n",
      "Epoch 2: loss=0.131, accuracy=0.966/0.972\n",
      "Epoch 3: loss=0.136, accuracy=0.967/0.970\n",
      "Epoch 4: loss=0.133, accuracy=0.968/0.970\n",
      "Epoch 5: loss=0.121, accuracy=0.968/0.969\n",
      "Epoch 6: loss=0.145, accuracy=0.968/0.974\n",
      "Epoch 7: loss=0.122, accuracy=0.970/0.975\n",
      "Epoch 8: loss=0.127, accuracy=0.970/0.976\n",
      "Epoch 9: loss=0.125, accuracy=0.970/0.976\n",
      "Epoch 10: loss=0.134, accuracy=0.968/0.976\n",
      "\n",
      "Final Test: final accuracy = 0.976\n"
     ]
    }
   ],
   "source": [
    "pulsar_exec()"
   ]
  },
  {
   "cell_type": "code",
   "execution_count": 3,
   "metadata": {},
   "outputs": [
    {
     "name": "stdout",
     "output_type": "stream",
     "text": [
      "Epoch 1: loss=-40.173, accuracy=1.000/1.000\n",
      "Epoch 2: loss=-119.967, accuracy=1.000/1.000\n",
      "Epoch 3: loss=-199.559, accuracy=1.000/1.000\n",
      "Epoch 4: loss=-279.150, accuracy=1.000/1.000\n",
      "Epoch 5: loss=-358.740, accuracy=1.000/1.000\n",
      "Epoch 6: loss=-438.331, accuracy=1.000/1.000\n",
      "Epoch 7: loss=-517.923, accuracy=1.000/1.000\n",
      "Epoch 8: loss=-597.514, accuracy=1.000/1.000\n",
      "Epoch 9: loss=-677.104, accuracy=1.000/1.000\n",
      "Epoch 10: loss=-756.694, accuracy=1.000/1.000\n",
      "\n",
      "Final Test: final accuracy = 1.000\n"
     ]
    }
   ],
   "source": [
    "abalone_exec()"
   ]
  }
 ],
 "metadata": {
  "kernelspec": {
   "display_name": "Python 3",
   "language": "python",
   "name": "python3"
  },
  "language_info": {
   "codemirror_mode": {
    "name": "ipython",
    "version": 3
   },
   "file_extension": ".py",
   "mimetype": "text/x-python",
   "name": "python",
   "nbconvert_exporter": "python",
   "pygments_lexer": "ipython3",
   "version": "3.4.3"
  }
 },
 "nbformat": 4,
 "nbformat_minor": 2
}
