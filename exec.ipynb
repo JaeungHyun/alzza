{
 "cells": [
  {
   "cell_type": "code",
   "execution_count": 1,
   "metadata": {},
   "outputs": [],
   "source": [
    "## 책에 있는 방법으로는 실행이 안됨\n",
    "\n",
    "%run -i 'pulse.ipynb'"
   ]
  },
  {
   "cell_type": "code",
   "execution_count": 2,
   "metadata": {},
   "outputs": [],
   "source": [
    "%load_ext autoreload"
   ]
  },
  {
   "cell_type": "code",
   "execution_count": 3,
   "metadata": {},
   "outputs": [
    {
     "name": "stdout",
     "output_type": "stream",
     "text": [
      "Epoch 1: loss=0.139, result=0.965,0.975,0.624,0.761\n",
      "Epoch 2: loss=0.128, result=0.971,0.969,0.696,0.810\n",
      "Epoch 3: loss=0.130, result=0.973,0.951,0.734,0.828\n",
      "Epoch 4: loss=0.131, result=0.973,0.917,0.762,0.832\n",
      "Epoch 5: loss=0.130, result=0.975,0.953,0.755,0.843\n",
      "Epoch 6: loss=0.127, result=0.974,0.893,0.809,0.849\n",
      "Epoch 7: loss=0.130, result=0.972,0.950,0.718,0.818\n",
      "Epoch 8: loss=0.119, result=0.974,0.960,0.743,0.837\n",
      "Epoch 9: loss=0.116, result=0.974,0.971,0.727,0.832\n",
      "Epoch 10: loss=0.120, result=0.967,0.976,0.649,0.780\n",
      "\n",
      "Final test: final result = 0.967,0.976,0.649,0.780\n"
     ]
    }
   ],
   "source": [
    "pulsar_exec()"
   ]
  },
  {
   "cell_type": "code",
   "execution_count": null,
   "metadata": {},
   "outputs": [],
   "source": []
  }
 ],
 "metadata": {
  "kernelspec": {
   "display_name": "Tensorflow-env",
   "language": "python",
   "name": "tensorflow"
  },
  "language_info": {
   "codemirror_mode": {
    "name": "ipython",
    "version": 3
   },
   "file_extension": ".py",
   "mimetype": "text/x-python",
   "name": "python",
   "nbconvert_exporter": "python",
   "pygments_lexer": "ipython3",
   "version": "3.7.4"
  }
 },
 "nbformat": 4,
 "nbformat_minor": 4
}
