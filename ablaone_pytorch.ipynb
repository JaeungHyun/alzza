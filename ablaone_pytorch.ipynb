{
 "cells": [
  {
   "cell_type": "code",
   "execution_count": 1,
   "metadata": {},
   "outputs": [],
   "source": [
    "from torch.utils.data import Dataset, DataLoader\n",
    "import numpy as np\n",
    "import torch\n",
    "\n",
    "\n",
    "class AbaloneDataset(Dataset):\n",
    "    \"\"\" Diabetes dataset.\"\"\" \n",
    "    # Initialize your data, download, etc. \n",
    "    def __init__(self, train): \n",
    "        import pandas as pd\n",
    "        \n",
    "        df = pd.read_csv('data/chap01/abalone.csv', header=None, skiprows=1)\n",
    "\n",
    "        input_cnt, output_cnt = 10, 1\n",
    "        data = np.zeros([len(df), input_cnt + output_cnt])\n",
    "\n",
    "        # 원래있던 sex칼럼을 원핫 인코딩을 적용하여 3 칼럼으로 만들고 나머지 칼럼을 복사해온다.\n",
    "        for index, row in df.iterrows():\n",
    "            if row[0] == 'I':\n",
    "                data[index, 0] = 1\n",
    "            if row[0] == 'M':\n",
    "                data[index, 1] = 1\n",
    "            if row[0] == 'F':\n",
    "                data[index, 2] = 1\n",
    "\n",
    "            data[:, 3:] = df.loc[:, 1:]\n",
    "            \n",
    "        data.astype('float')\n",
    "        \n",
    "        if train is True:\n",
    "            data = data[:int(len(data)*0.8),:]\n",
    "        else:\n",
    "            data = data[int(len(data)*0.8):,:]\n",
    "        \n",
    "        self.len = data.shape[0] \n",
    "        self.x_data = torch.from_numpy(data[:, 0:-1]).float() \n",
    "        self.y_data = torch.from_numpy(data[:, [-1]]).float()\n",
    "        \n",
    "    def __getitem__(self, index): \n",
    "        return self.x_data[index], self.y_data[index] \n",
    "    \n",
    "    def __len__(self): \n",
    "        return self.len\n"
   ]
  },
  {
   "cell_type": "code",
   "execution_count": 2,
   "metadata": {},
   "outputs": [],
   "source": [
    "train_loader = DataLoader(\n",
    "    dataset     = AbaloneDataset(1),\n",
    "    batch_size  = 32,\n",
    "    shuffle     = True,\n",
    "    num_workers = 4)\n",
    "\n",
    "test_loader = DataLoader(\n",
    "    dataset     = AbaloneDataset(0),\n",
    "    batch_size  = 32,\n",
    "    shuffle     = True)"
   ]
  },
  {
   "cell_type": "code",
   "execution_count": 3,
   "metadata": {},
   "outputs": [],
   "source": [
    "class NeuralNet(torch.nn.Module):\n",
    "    def __init__(self, input_size, hidden_size):\n",
    "        super(NeuralNet, self).__init__()\n",
    "        self.input_size = input_size\n",
    "        self.hidden_size = hidden_size\n",
    "        \n",
    "        self.linear_1 = torch.nn.Linear(self.input_size, self.hidden_size, bias=True)\n",
    "        \n",
    "    def forward(self, input_tensor):\n",
    "        linear1 = self.linear_1(input_tensor)\n",
    "        \n",
    "        return linear1\n",
    "        "
   ]
  },
  {
   "cell_type": "code",
   "execution_count": 4,
   "metadata": {},
   "outputs": [],
   "source": [
    "def train(model, train_loader, optimizer):\n",
    "    model.train()\n",
    "    for batch_idx, (train_data, target) in enumerate(train_loader):\n",
    "        # 학습 데이터를 DEVICE의 메모리로 보냄\n",
    "        #print(DEVICE)\n",
    "        data, target = train_data.to(DEVICE), target.to(DEVICE)\n",
    "        optimizer.zero_grad()\n",
    "        output = model(data)\n",
    "        loss = criterion(output, target)\n",
    "        loss.backward()\n",
    "        optimizer.step()\n",
    "        \n",
    "def evaluate(model, test_loader):\n",
    "    model.eval()\n",
    "    test_loss = 0\n",
    "    correct = 0\n",
    "    with torch.no_grad():\n",
    "        for test_data, target in test_loader:\n",
    "            #print(DEVICE)\n",
    "            test_data, target = test_data.to(DEVICE), target.to(DEVICE)\n",
    "            output = model(test_data)\n",
    "\n",
    "            # 모든 오차 더하기\n",
    "            test_loss += criterion(output, target).item()\n",
    "            \n",
    "\n",
    "    test_loss /= len(test_loader.dataset)\n",
    "    return test_loss\n",
    "\n",
    "\n",
    "\n",
    "torch.set_default_tensor_type(torch.cuda.FloatTensor)"
   ]
  },
  {
   "cell_type": "code",
   "execution_count": 5,
   "metadata": {},
   "outputs": [],
   "source": [
    "USE_CUDA = torch.cuda.is_available()\n",
    "DEVICE = torch.device(\"cuda\" if USE_CUDA else \"cpu\")\n",
    "#DEVICE = 'cpu'"
   ]
  },
  {
   "cell_type": "code",
   "execution_count": 6,
   "metadata": {},
   "outputs": [],
   "source": [
    "EPOCHS = 30\n",
    "BATCH_SIZE = 64"
   ]
  },
  {
   "cell_type": "code",
   "execution_count": 7,
   "metadata": {},
   "outputs": [],
   "source": [
    "model        = NeuralNet(10, 1).to(DEVICE)\n",
    "optimizer    = torch.optim.SGD(model.parameters(), lr=0.01)\n",
    "criterion    = torch.nn.MSELoss() "
   ]
  },
  {
   "cell_type": "code",
   "execution_count": 8,
   "metadata": {},
   "outputs": [
    {
     "name": "stdout",
     "output_type": "stream",
     "text": [
      "NeuralNet(\n",
      "  (linear_1): Linear(in_features=10, out_features=1, bias=True)\n",
      ")\n"
     ]
    }
   ],
   "source": [
    "print(model)"
   ]
  },
  {
   "cell_type": "code",
   "execution_count": 12,
   "metadata": {},
   "outputs": [
    {
     "name": "stdout",
     "output_type": "stream",
     "text": [
      "[1] Test Loss: 0.1592\n",
      "[2] Test Loss: 0.1503\n",
      "[3] Test Loss: 0.1527\n",
      "[4] Test Loss: 0.1498\n",
      "[5] Test Loss: 0.1497\n",
      "[6] Test Loss: 0.1542\n",
      "[7] Test Loss: 0.1520\n",
      "[8] Test Loss: 0.1588\n",
      "[9] Test Loss: 0.1528\n",
      "[10] Test Loss: 0.1497\n",
      "[11] Test Loss: 0.1486\n",
      "[12] Test Loss: 0.1509\n",
      "[13] Test Loss: 0.1484\n",
      "[14] Test Loss: 0.1489\n",
      "[15] Test Loss: 0.1478\n",
      "[16] Test Loss: 0.1764\n",
      "[17] Test Loss: 0.1550\n",
      "[18] Test Loss: 0.1491\n",
      "[19] Test Loss: 0.1488\n",
      "[20] Test Loss: 0.1492\n",
      "[21] Test Loss: 0.1480\n",
      "[22] Test Loss: 0.1478\n",
      "[23] Test Loss: 0.1500\n",
      "[24] Test Loss: 0.1489\n",
      "[25] Test Loss: 0.1505\n",
      "[26] Test Loss: 0.1492\n",
      "[27] Test Loss: 0.1544\n",
      "[28] Test Loss: 0.1674\n",
      "[29] Test Loss: 0.1482\n",
      "[30] Test Loss: 0.1469\n"
     ]
    }
   ],
   "source": [
    "for epoch in range(1, EPOCHS + 1):\n",
    "    train(model, train_loader, optimizer)\n",
    "    test_loss = evaluate(model, test_loader)\n",
    "    \n",
    "    print('[{}] Test Loss: {:.4f}'.format(\n",
    "          epoch, test_loss))"
   ]
  },
  {
   "cell_type": "code",
   "execution_count": null,
   "metadata": {},
   "outputs": [],
   "source": []
  }
 ],
 "metadata": {
  "kernelspec": {
   "display_name": "Python 3",
   "language": "python",
   "name": "python3"
  },
  "language_info": {
   "codemirror_mode": {
    "name": "ipython",
    "version": 3
   },
   "file_extension": ".py",
   "mimetype": "text/x-python",
   "name": "python",
   "nbconvert_exporter": "python",
   "pygments_lexer": "ipython3",
   "version": "3.7.6"
  }
 },
 "nbformat": 4,
 "nbformat_minor": 4
}
